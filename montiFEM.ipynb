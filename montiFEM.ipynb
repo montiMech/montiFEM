{
 "cells": [
  {
   "cell_type": "markdown",
   "metadata": {},
   "source": [
    "# montiFEM"
   ]
  },
  {
   "cell_type": "markdown",
   "metadata": {},
   "source": [
    "Im Folgenden soll die Durchbiegung der neutralen Faser eines Euler-Bernoulli-Balkens mit hilfe der Methode der Finiten Elemente modelliert werden. Ausgehend von der Differentialgleichung der Biegelinie 4. Ordnung wird unter Anwendung des Ritz'schen Verfahrens ein lineares Gleichungssystem aufgestellt, welches die Eigenschaften des Balkens beschreibt:\n",
    "\n",
    "$$ EJ w_{}^{IV}(x) = q(x) \\;\\; \\longrightarrow \\;\\;  \\text{FEM-Analyse}  \\;\\; \\longrightarrow \\;\\; \\underline{\\underline{K}} \\; \\underline{U} = \\underline{F} $$ \n",
    "\n",
    "Unter Verwendung passender Ansatzfunktionen $h_i(x)$ kann dann mithilfe des Lösungsvektors $ \\underline{U} = (u_0, u_1,.. u_i, .. u_n)^\\top $ in jedem \"finiten Element\" eine kontinuierliche Näheungslösung angegeben werden: \n",
    "\n",
    "$$ w(x)\\approx \\sum_{i=1}^{e} u_i h_i(x) $$\n",
    "\n",
    "$$ \\int_{0}^{l} EJ w_{}^{IV}(x) \\nu(x) dx = \\int_{0}^{l} q(x) \\nu(x) dx $$\n",
    "\n",
    "Offensichtlich ist die Ordnung der Operatotgleichung gleich 4. Daraus folgt, dass die Integrale Form zwei mal partiell integriert werden muss um die natürlichen (Neumann) Randbedingungen zu berücksichtigen: \n",
    "\n",
    "$$ EJ w_{}^{'''}(x) \\nu(x) \\big|_0^l - \\int_{0}^{l} EJ w_{}^{'''}(x) \\nu_{}^{'}(x) dx = \\int_{0}^{l} q(x) \\nu(x) dx $$\n",
    "\n",
    "$$ - EJ w_{}^{''}(x) \\nu_{}^{'}(x) \\big|_0^l + \\int_{0}^{l} EJ w_{}^{''}(x) \\nu_{}^{''}(x) dx = \\int_{0}^{l} q(x) \\nu(x) dx $$\n",
    "\n",
    "Nach substituion der Näherungslösung und $ \\nu = h $ (beliebig) erhält man das folgende Gleichungssystem: \n",
    "\n",
    "$$ \\sum_{i=1}^{e} u_i \\int_{0}^{l} EJ h_{i}^{''}(x) h_{j}^{''}(x) dx = \\int_{0}^{l} q(x) h_{j}(x) dx $$\n",
    "\n",
    "Oder in Matrixschreibweise: \n",
    "\n",
    "$$ \\underline{\\underline{k}}_{}^{(e)}  \\underline{u}_{}^{(e)} = \\underline{f}_{}^{(e)} $$\n",
    "\n",
    "wobei, \n",
    "\n",
    "$$ \\underline{\\underline{k}}_{}^{(e)} = \\int_{0}^{l} EJ h_{i}^{''}(x) h_{j}^{''}(x) dx $$ \n",
    "$$ \\underline{f}_{}^{(e)} = \\int_{0}^{l} q(x) h_{j}(x) dx $$\n",
    "\n",
    "Um Elementsteifigkeitsmatrix und Elementlastvektor explizit anzugeben müssen zuerst geeignete Ansatzfunktionen gewählt werden. Da in jedem Element vier essentielle (Dirichlet) Randbedingungen gefordert werden $(w_{}^{}(0),w_{}^{'}(0),w_{}^{}(l),w_{}^{'}(l))$ ist der minimale Polynomgrad drei: \n",
    "\n",
    "$$ w_{}^{(e)}(\\xi) = \\alpha_0 + \\alpha_1 \\xi + \\alpha_2 \\xi^2 + \\alpha_3 \\xi^3 $$\n",
    "\n",
    "Die vier $\\alpha$-Parameter können also so gewählt werden, dass das Polynom am Anfang und am Ende des finiten Elements beliebige Werte und Steigungen annimmt. Um diese Randbedingungen im Rahmen der linearen Algebra \"steuern\" zu können entscheiden wir uns für \"Hermite Cubic Interpolation Functions\":\n",
    "\n",
    "$$ h_0^{(e)}(\\xi) = 1 - 3 \\left(\\frac{\\xi}{l}\\right)^2 + 2 \\left( \\frac{\\xi}{l} \\right)^3 $$ \n",
    "$$ h_1^{(e)}(\\xi) = - \\xi \\left( 1 - \\left( \\frac{\\xi}{l} \\right) \\right)^2 $$ \n",
    "$$ h_2^{(e)}(\\xi) =  3 \\left(\\frac{\\xi}{l}\\right)^2 - 2 \\left( \\frac{\\xi}{l} \\right)^3 $$ \n",
    "$$ h_3^{(e)}(\\xi) = - \\xi \\left( \\left( \\frac{\\xi}{l} \\right)^2 - \\left( \\frac{\\xi}{l} \\right)\\right) $$ \n",
    "\n",
    "\n"
   ]
  },
  {
   "cell_type": "code",
   "execution_count": 46,
   "metadata": {},
   "outputs": [
    {
     "data": {
      "image/png": "[encoded data removed]",
      "text/plain": [
       "<Figure size 432x288 with 4 Axes>"
      ]
     },
     "metadata": {
      "needs_background": "light"
     },
     "output_type": "display_data"
    }
   ],
   "source": [
    "import matplotlib.pyplot as plt  \n",
    "from numpy import linspace \n",
    "\n",
    "l = 5 # länge des elements \n",
    "x = linspace(0,l,100) # xi-werte\n",
    "\n",
    "\n",
    "# hermite cubic interpolation functions \n",
    "\n",
    "def h0(x,l):\n",
    "    return 1 - 3 * (x/l)**2 + 2 * (x/l)**3\n",
    "\n",
    "def h1(x,l):\n",
    "    return - x * (1 - (x/l))**2\n",
    "\n",
    "def h2(x,l):\n",
    "    return 3 * (x/l)**2 - 2 * (x/l)**3\n",
    "\n",
    "def h3(x,l):\n",
    "    return - x * ((x/l)**2 -(x/l))\n",
    "\n",
    "plt.subplot(411)\n",
    "plt.plot(x, h0(x,l))\n",
    "\n",
    "plt.subplot(412)\n",
    "plt.plot(x, h1(x,l))\n",
    "\n",
    "plt.subplot(413)\n",
    "plt.plot(x, h2(x,l))\n",
    "\n",
    "plt.subplot(414)\n",
    "plt.plot(x, h3(x,l))\n",
    "\n",
    "plt.tight_layout() \n",
    "plt.show()"
   ]
  },
  {
   "cell_type": "markdown",
   "metadata": {},
   "source": [
    "Da jede der vier Ansatzfunktionen für eine der essentielen Randbedingungen \"zuständig\" ist kann man nun für beliebige vorgegebene Randwerte Polynome dritten grades finden indem man die Ansatzfunktionen entsprechend skaliert und überlagert. Im nachfolgenden Python 3 Skript kann das ausprobiert werden:"
   ]
  },
  {
   "cell_type": "code",
   "execution_count": 47,
   "metadata": {},
   "outputs": [
    {
     "data": {
      "text/plain": [
       "(-0.25, 5.25, -0.2333333333333333, 0.011111111111111112)"
      ]
     },
     "execution_count": 47,
     "metadata": {},
     "output_type": "execute_result"
    },
    {
     "data": {
      "image/png": "[encoded data removed]",
      "text/plain": [
       "<Figure size 432x288 with 1 Axes>"
      ]
     },
     "metadata": {
      "needs_background": "light"
     },
     "output_type": "display_data"
    }
   ],
   "source": [
    "# gib hier Randwerte für das polynom vor: \n",
    "RB0 = 0.0  # w(0) \n",
    "RB1 = 0.0  # w'(0)\n",
    "RB2 = 0.0  # w(l)\n",
    "RB3 = -0.3 # w'(l)\n",
    "\n",
    "\n",
    "def w(x):\n",
    "    return  h0(x,l)*RB0 + h1(x,l)*RB1 + h2(x,l)*RB2 + h3(x,l)*RB3\n",
    "\n",
    "plt.plot(x, w(x),0,w(0),'o',l,w(l),'o')\n",
    "plt.axis('equal')"
   ]
  },
  {
   "cell_type": "markdown",
   "metadata": {},
   "source": [
    "Nachdem nun die Ansatzfunktionen festgelegt wurden müssen noch ihre Ableitungen, sofern diese für die berechnung der ESM notwendig sind, bestimmt werden. In diesem Beispiel braucht man die zweiten Ableitungen der Ansatzfunktionen. Üblicherweise erfolgen Integration und differenzierung numerisch (zB Gauss-Quadratur). Zum besseren Verständnis des Verfahrens werden wir hier aber unter Verwendung der toolbox \"sympy\" die Ansatzfunktionen weiterhin analytisch behandeln:"
   ]
  },
  {
   "cell_type": "code",
   "execution_count": 48,
   "metadata": {},
   "outputs": [
    {
     "name": "stdout",
     "output_type": "stream",
     "text": [
      "Ansatzfunktionen:\n",
      "h_i = [[1 - 3*x**2/l**2 + 2*x**3/l**3]\n",
      " [-x*(1 - x/l)**2]\n",
      " [3*x**2/l**2 - 2*x**3/l**3]\n",
      " [-x*(-x/l + x**2/l**2)]]\n",
      "         \n",
      "2. Ableitungen der Ansatzfunktionen:\n",
      "h´´_i = [[6*(-1 + 2*x/l)/l**2]\n",
      " [2*(2 - 3*x/l)/l]\n",
      " [6*(1 - 2*x/l)/l**2]\n",
      " [2*(1 - 3*x/l)/l]]\n"
     ]
    }
   ],
   "source": [
    "from sympy import symbols, diff, zeros\n",
    "from numpy import array, asarray\n",
    "\n",
    "# definiere symbolische variable x und parameter l\n",
    "x, l = symbols('x l')\n",
    "\n",
    "# zusammenfassen der symbolischen ansatzfunktionen in einem array\n",
    "h = array([[h0(x,l)],[h1(x,l)],[h2(x,l)],[h3(x,l)]])\n",
    "\n",
    "# für die berechnung der ESM benötigen wir h''(x)\n",
    "# initialisiere sympy-array mit 2. ableitung der ansatzfunktionen\n",
    "h2 = zeros(4,1) \n",
    "\n",
    "# symbolische berechnung der 2. ableitung\n",
    "for i in range(4): \n",
    "    # 2. ableitung für alle 4 ansatzfunktionen\n",
    "    h2[i,0] = diff(h[i,0],x,x) \n",
    "    \n",
    "# konvertieren zu numpy array    \n",
    "h2 = asarray(h2) \n",
    "    \n",
    "print(\"Ansatzfunktionen:\")    \n",
    "print(\"h_i =\",h )  \n",
    "print(\"         \")\n",
    "print(\"2. Ableitungen der Ansatzfunktionen:\")    \n",
    "print(\"h´´_i =\",h2)"
   ]
  },
  {
   "cell_type": "markdown",
   "metadata": {},
   "source": []
  },
  {
   "cell_type": "code",
   "execution_count": 52,
   "metadata": {
    "scrolled": false
   },
   "outputs": [
    {
     "name": "stdout",
     "output_type": "stream",
     "text": [
      "Elementsteifigkeitsmatrix:\n",
      "k_ij = [[12*E*J/l**3 -6*E*J/l**2 -12*E*J/l**3 -6*E*J/l**2]\n",
      " [-6*E*J/l**2 4*E*J/l 6*E*J/l**2 2*E*J/l]\n",
      " [-12*E*J/l**3 6*E*J/l**2 12*E*J/l**3 6*E*J/l**2]\n",
      " [-6*E*J/l**2 2*E*J/l 6*E*J/l**2 4*E*J/l]]\n"
     ]
    }
   ],
   "source": [
    "from sympy import integrate, simplify\n",
    "\n",
    "# definiere symbolische parameter\n",
    "E, J = symbols('E J')\n",
    "\n",
    "# initialisiere ESM \n",
    "k = zeros(4) \n",
    "\n",
    "# berechne ESM durch analytische integration\n",
    "for i in range(4): \n",
    "    for j in range(4): \n",
    "        k[i,j] = integrate(E*J*h2[i,0]*h2[j,0], (x, 0, l))\n",
    "\n",
    "# vereinfachen        \n",
    "k = simplify(k) \n",
    "\n",
    "# konvertieren zu numpy array    \n",
    "k = asarray(k)        \n",
    "\n",
    "print(\"Elementsteifigkeitsmatrix:\")\n",
    "print(\"k_ij =\",k)        \n",
    "        "
   ]
  },
  {
   "cell_type": "code",
   "execution_count": null,
   "metadata": {},
   "outputs": [],
   "source": []
  }
 ],
 "metadata": {
  "kernelspec": {
   "display_name": "Python 3",
   "language": "python",
   "name": "python3"
  },
  "language_info": {
   "codemirror_mode": {
    "name": "ipython",
    "version": 3
   },
   "file_extension": ".py",
   "mimetype": "text/x-python",
   "name": "python",
   "nbconvert_exporter": "python",
   "pygments_lexer": "ipython3",
   "version": "3.7.6"
  }
 },
 "nbformat": 4,
 "nbformat_minor": 4
}
