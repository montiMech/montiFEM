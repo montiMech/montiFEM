{
 "cells": [
  {
   "cell_type": "markdown",
   "metadata": {},
   "source": [
    "# FEM Beispiel: Euler-Bernoulli-Balken"
   ]
  },
  {
   "cell_type": "markdown",
   "metadata": {},
   "source": [
    "#####  Zur Verfügung gestellt vom Institut für Mechanik der Montanuniversität Leoben \n",
    "#####  Kontakt für Fragen und Anmerkungen: wolfgang.flachberger@stud.unileoben.ac.at"
   ]
  },
  {
   "cell_type": "markdown",
   "metadata": {},
   "source": [
    "## Einführung"
   ]
  },
  {
   "cell_type": "markdown",
   "metadata": {},
   "source": [
    "Im Folgenden soll die Durchbiegung der neutralen Faser eines Euler-Bernoulli-Balkens mit hilfe der Methode der Finiten Elemente modelliert werden. Ausgehend von der Differentialgleichung der Biegelinie 4. Ordnung wird unter Anwendung des Ritz'schen Verfahrens ein lineares Gleichungssystem aufgestellt, welches die Eigenschaften des Balkens beschreibt:\n",
    "\n",
    "$$ EJ w_{}^{IV}(x) = q(x) \\;\\; \\longrightarrow \\;\\;  \\text{FEM-Analyse}  \\;\\; \\longrightarrow \\;\\; \\underline{\\underline{K}} \\; \\underline{U} = \\underline{F} $$ \n",
    "\n",
    "Unter Verwendung passender Ansatzfunktionen $h_i(x)$ kann dann mithilfe des Lösungsvektors $ \\underline{U} = (u_0, u_1,.. u_i, .. u_n)^\\top $ eine kontinuierliche Näheungslösung angegeben werden: \n",
    "\n",
    "$$ w(x)\\approx \\sum_{i=1}^{n} u_i h_i(x) $$"
   ]
  },
  {
   "cell_type": "markdown",
   "metadata": {},
   "source": [
    "## Analytische Vorarbeit"
   ]
  },
  {
   "cell_type": "markdown",
   "metadata": {},
   "source": [
    "Ausgangspunkt ist die Integrale Form der DGL der Biegelinie mit $\\nu(x)$ als Testfuntion:\n",
    "\n",
    "$$ \\int_{0}^{l} EJ w_{}^{IV}(x) \\nu(x) \\; dx = \\int_{0}^{l} q(x) \\nu(x) \\; dx $$\n",
    "\n",
    "Offensichtlich ist die Ordnung der Operatotgleichung gleich 4. Daraus folgt, dass die Integrale Form zwei mal partiell integriert werden muss um die natürlichen (Neumann) Randbedingungen zu berücksichtigen und das Ritz'sche Verfahren anwenden zu können: \n",
    "\n",
    "$$ EJ w_{}^{'''}(x) \\nu(x) \\big|_0^l - \\int_{0}^{l} EJ w_{}^{'''}(x) \\nu_{}^{'}(x) \\; dx = \\int_{0}^{l} q(x) \\nu(x) \\; dx $$\n",
    "\n",
    "Offensichtlich verschwindet der Term vor dem Integral bei Auswertung der Grenzen da Testfunktionen die Eigenschaft besitzen dass sie am Rand des Definitionsbereich den Wert Null annehmen. Erneute partielle Integration liefert:\n",
    "\n",
    "$$ - EJ w_{}^{''}(x) \\nu_{}^{'}(x) \\big|_0^l + \\int_{0}^{l} EJ w_{}^{''}(x) \\nu_{}^{''}(x) \\;dx = \\int_{0}^{l} q(x) \\nu(x) \\; dx $$\n",
    "\n",
    "Diesmal ist es nicht selbstverständlich dass der Term vor dem Integral verschwindet. $w''(x)$ verhält sich direkt proportional zum Momentenverlauf welcher am Rand nicht notwendig Null sein muss. Es gilt in weiterer Folge die Ansatzfunktionen so zu wählen dass $\\nu_{}^{'}(x)$ am Rand verschwindet. Diese Überlegungen sind zwar zunächst aufwendig, erleichtern die numerische behandlung aber erheblich da dann das elegante Ritz'sche Verfahren angewendet werden kann. Hierbei müssen bei der numerischen Berechnung nurmehr die Dirichlet Randbedingungen (in diesem Fall $w(0),  w'(l)$) berücksichtigt werden. Zum Vergleich: Bei der analytischen Lösung bräuchte man hier vier Randbedingungen. Nach substituion der Näherungslösung und der Wahl von $ \\nu(x) = h(x) $ (Testfunktionen dürfen beliebig gewählt werden) erhält man das folgende Gleichungssystem: \n",
    "\n",
    "$$ \\sum_{i=1}^{e} u_i \\int_{0}^{l} EJ h_{i}^{''}(x) h_{j}^{''}(x) \\; dx = \\int_{0}^{l} q(x) h_{j}(x) \\; dx $$\n",
    "\n",
    "Oder in Matrixschreibweise: \n",
    "\n",
    "$$ \\underline{\\underline{k}}_{}^{(e)}  \\underline{u}_{}^{(e)} = \\underline{f}_{}^{(e)} $$\n",
    "\n",
    "wobei, \n",
    "\n",
    "$$ \\underline{\\underline{k}}_{}^{(e)} = \\int_{0}^{l} EJ h_{i}^{''}(x) h_{j}^{''}(x)\\; dx $$ \n",
    "$$ \\underline{f}_{}^{(e)} = \\int_{0}^{l} q(x) h_{j}(x) \\;dx $$\n",
    "\n"
   ]
  },
  {
   "cell_type": "markdown",
   "metadata": {},
   "source": [
    "## Element-Typ und Ansatzfunktionen"
   ]
  },
  {
   "cell_type": "markdown",
   "metadata": {},
   "source": [
    "Um Elementsteifigkeitsmatrix und Elementlastvektor explizit anzugeben müssen zuerst geeignete Ansatzfunktionen gewählt werden. Da in jedem Element vier essentielle (Dirichlet) Randbedingungen gefordert werden $(w_{}^{}(0),w_{}^{'}(0),w_{}^{}(l),w_{}^{'}(l))$ ist der minimale Polynomgrad drei: \n",
    "\n",
    "$$ w_{}^{(e)}(\\xi) = \\alpha_0 + \\alpha_1 \\xi + \\alpha_2 \\xi^2 + \\alpha_3 \\xi^3 $$\n",
    "\n",
    "Die vier $\\alpha$-Parameter können also so gewählt werden, dass das Polynom am Anfang und am Ende des finiten Elements beliebige Werte und Steigungen annimmt. Um diese Randbedingungen im Rahmen der linearen Algebra \"steuern\" zu können entscheiden wir uns für \"Hermite Cubic Interpolation Functions\":\n",
    "\n",
    "$$ h_0^{(e)}(\\xi) = 1 - 3 \\left(\\frac{\\xi}{l}\\right)^2 + 2 \\left( \\frac{\\xi}{l} \\right)^3 $$ \n",
    "$$ h_1^{(e)}(\\xi) = - \\xi \\left( 1 - \\left( \\frac{\\xi}{l} \\right) \\right)^2 $$ \n",
    "$$ h_2^{(e)}(\\xi) =  3 \\left(\\frac{\\xi}{l}\\right)^2 - 2 \\left( \\frac{\\xi}{l} \\right)^3 $$ \n",
    "$$ h_3^{(e)}(\\xi) = - \\xi \\left( \\left( \\frac{\\xi}{l} \\right)^2 - \\left( \\frac{\\xi}{l} \\right)\\right) $$ \n",
    "\n",
    "Sie besitzen außerdem die Eigenschaften die wir benötigen um das Ritz'sche verfahren anzuwenden (Randbedingungen)!"
   ]
  },
  {
   "cell_type": "code",
   "execution_count": 1,
   "metadata": {},
   "outputs": [
    {
     "name": "stdout",
     "output_type": "stream",
     "text": [
      "hermite cubic interpolation functions\n",
      "-------------------------------------\n"
     ]
    },
    {
     "data": {
      "image/png": "[encoded data removed]",
      "text/plain": [
       "<Figure size 432x288 with 4 Axes>"
      ]
     },
     "metadata": {
      "needs_background": "light"
     },
     "output_type": "display_data"
    }
   ],
   "source": [
    "from keyClasses import * \n",
    "\n",
    "l = 5 # länge des elements \n",
    "\n",
    "x = linspace(0,l,100) # xi-werte\n",
    "\n",
    "\n",
    "# hermite cubic interpolation functions \n",
    "\n",
    "def h0(x,l):\n",
    "    return 1 - 3 * (x/l)**2 + 2 * (x/l)**3\n",
    "\n",
    "def h1(x,l):\n",
    "    return - x * (1 - (x/l))**2\n",
    "\n",
    "def h2(x,l):\n",
    "    return 3 * (x/l)**2 - 2 * (x/l)**3\n",
    "\n",
    "def h3(x,l):\n",
    "    return - x * ((x/l)**2 -(x/l))\n",
    "\n",
    "\n",
    "print(\"hermite cubic interpolation functions\")\n",
    "print(\"-------------------------------------\")\n",
    "\n",
    "plt.subplot(411)\n",
    "plt.plot(x, h0(x,l))\n",
    "\n",
    "plt.subplot(412)\n",
    "plt.plot(x, h1(x,l))\n",
    "\n",
    "plt.subplot(413)\n",
    "plt.plot(x, h2(x,l))\n",
    "\n",
    "plt.subplot(414)\n",
    "plt.plot(x, h3(x,l))\n",
    "\n",
    "plt.tight_layout() \n",
    "plt.show()"
   ]
  },
  {
   "cell_type": "markdown",
   "metadata": {},
   "source": [
    "Da jede der vier Ansatzfunktionen für eine der essentielen Randbedingungen \"zuständig\" ist kann man nun für beliebige vorgegebene Randwerte Polynome dritten grades finden indem man die Ansatzfunktionen entsprechend skaliert und überlagert. Im nachfolgenden Python 3 Skript kann das ausprobiert werden:"
   ]
  },
  {
   "cell_type": "code",
   "execution_count": 2,
   "metadata": {},
   "outputs": [
    {
     "name": "stdout",
     "output_type": "stream",
     "text": [
      "Finites Stabelement :\n",
      "----------------------\n"
     ]
    },
    {
     "data": {
      "text/plain": [
       "(-0.25, 5.25, -0.2333333333333333, 0.011111111111111112)"
      ]
     },
     "execution_count": 2,
     "metadata": {},
     "output_type": "execute_result"
    },
    {
     "data": {
      "image/png": "[encoded data removed]",
      "text/plain": [
       "<Figure size 432x288 with 1 Axes>"
      ]
     },
     "metadata": {
      "needs_background": "light"
     },
     "output_type": "display_data"
    }
   ],
   "source": [
    "from keyClasses import * \n",
    "\n",
    "\"\"\"gib hier Randwerte für das polynom vor:\"\"\" \n",
    "RB0 = 0.0  # w(0) \n",
    "RB1 = 0.0  # w'(0)\n",
    "RB2 = 0.0  # w(l)\n",
    "RB3 = -0.3 # w'(l)\n",
    "\n",
    "\n",
    "def w(x):\n",
    "    return  h0(x,l)*RB0 + h1(x,l)*RB1 + h2(x,l)*RB2 + h3(x,l)*RB3\n",
    "\n",
    "print(\"Finites Stabelement :\")  \n",
    "print(\"----------------------\")\n",
    "plt.plot(x, w(x),0,w(0),'o',l,w(l),'o')\n",
    "plt.axis('equal')"
   ]
  },
  {
   "cell_type": "markdown",
   "metadata": {},
   "source": [
    "## ESM & ESV"
   ]
  },
  {
   "cell_type": "markdown",
   "metadata": {},
   "source": [
    "Nachdem nun die Ansatzfunktionen festgelegt wurden müssen noch ihre Ableitungen, sofern diese für die berechnung der ESM notwendig sind, bestimmt werden. In diesem Beispiel braucht man die zweiten Ableitungen der Ansatzfunktionen. Üblicherweise erfolgen Integration und differenzierung numerisch (zB Gauss-Quadratur). Zum besseren Verständnis des Verfahrens werden wir hier aber unter Verwendung der toolbox \"sympy\" die Ansatzfunktionen weiterhin analytisch behandeln:"
   ]
  },
  {
   "cell_type": "code",
   "execution_count": 3,
   "metadata": {},
   "outputs": [
    {
     "name": "stdout",
     "output_type": "stream",
     "text": [
      "Ansatzfunktionen h_i :\n",
      "----------------------\n"
     ]
    },
    {
     "data": {
      "image/png": "[encoded data removed]",
      "text/latex": [
       "$\\displaystyle 1 - \\frac{3 x^{2}}{l^{2}} + \\frac{2 x^{3}}{l^{3}}$"
      ],
      "text/plain": [
       "       2      3\n",
       "    3⋅x    2⋅x \n",
       "1 - ──── + ────\n",
       "      2      3 \n",
       "     l      l  "
      ]
     },
     "metadata": {},
     "output_type": "display_data"
    },
    {
     "data": {
      "image/png": "[encoded data removed]",
      "text/latex": [
       "$\\displaystyle - x \\left(1 - \\frac{x}{l}\\right)^{2}$"
      ],
      "text/plain": [
       "          2\n",
       "   ⎛    x⎞ \n",
       "-x⋅⎜1 - ─⎟ \n",
       "   ⎝    l⎠ "
      ]
     },
     "metadata": {},
     "output_type": "display_data"
    },
    {
     "data": {
      "image/png": "[encoded data removed]",
      "text/latex": [
       "$\\displaystyle \\frac{3 x^{2}}{l^{2}} - \\frac{2 x^{3}}{l^{3}}$"
      ],
      "text/plain": [
       "   2      3\n",
       "3⋅x    2⋅x \n",
       "──── - ────\n",
       "  2      3 \n",
       " l      l  "
      ]
     },
     "metadata": {},
     "output_type": "display_data"
    },
    {
     "data": {
      "image/png": "[encoded data removed]",
      "text/latex": [
       "$\\displaystyle - x \\left(- \\frac{x}{l} + \\frac{x^{2}}{l^{2}}\\right)$"
      ],
      "text/plain": [
       "   ⎛       2⎞\n",
       "   ⎜  x   x ⎟\n",
       "-x⋅⎜- ─ + ──⎟\n",
       "   ⎜  l    2⎟\n",
       "   ⎝      l ⎠"
      ]
     },
     "metadata": {},
     "output_type": "display_data"
    },
    {
     "name": "stdout",
     "output_type": "stream",
     "text": [
      "         \n",
      "2. Ableitungen der Ansatzfunktionen h´´_i :\n",
      "-------------------------------------------\n"
     ]
    },
    {
     "data": {
      "image/png": "[encoded data removed]",
      "text/latex": [
       "$\\displaystyle \\frac{6 \\left(-1 + \\frac{2 x}{l}\\right)}{l^{2}}$"
      ],
      "text/plain": [
       "  ⎛     2⋅x⎞\n",
       "6⋅⎜-1 + ───⎟\n",
       "  ⎝      l ⎠\n",
       "────────────\n",
       "      2     \n",
       "     l      "
      ]
     },
     "metadata": {},
     "output_type": "display_data"
    },
    {
     "data": {
      "image/png": "[encoded data removed]",
      "text/latex": [
       "$\\displaystyle \\frac{2 \\left(2 - \\frac{3 x}{l}\\right)}{l}$"
      ],
      "text/plain": [
       "  ⎛    3⋅x⎞\n",
       "2⋅⎜2 - ───⎟\n",
       "  ⎝     l ⎠\n",
       "───────────\n",
       "     l     "
      ]
     },
     "metadata": {},
     "output_type": "display_data"
    },
    {
     "data": {
      "image/png": "[encoded data removed]",
      "text/latex": [
       "$\\displaystyle \\frac{6 \\left(1 - \\frac{2 x}{l}\\right)}{l^{2}}$"
      ],
      "text/plain": [
       "  ⎛    2⋅x⎞\n",
       "6⋅⎜1 - ───⎟\n",
       "  ⎝     l ⎠\n",
       "───────────\n",
       "      2    \n",
       "     l     "
      ]
     },
     "metadata": {},
     "output_type": "display_data"
    },
    {
     "data": {
      "image/png": "[encoded data removed]",
      "text/latex": [
       "$\\displaystyle \\frac{2 \\left(1 - \\frac{3 x}{l}\\right)}{l}$"
      ],
      "text/plain": [
       "  ⎛    3⋅x⎞\n",
       "2⋅⎜1 - ───⎟\n",
       "  ⎝     l ⎠\n",
       "───────────\n",
       "     l     "
      ]
     },
     "metadata": {},
     "output_type": "display_data"
    }
   ],
   "source": [
    "from keyClasses import * \n",
    "\n",
    "# definiere symbolische variable x und parameter l\n",
    "x, l = symbols('x l')\n",
    "\n",
    "# zusammenfassen der symbolischen ansatzfunktionen in einem array\n",
    "h = Array([[h0(x,l)],[h1(x,l)],[h2(x,l)],[h3(x,l)]])\n",
    "\n",
    "# für die berechnung der ESM benötigen wir h''(x)\n",
    "# initialisiere sympy-array mit 2. ableitung der ansatzfunktionen\n",
    "h_diff2 = zeros(4,1) \n",
    "\n",
    "# symbolische berechnung der 2. ableitung\n",
    "for i in range(4): \n",
    "    # 2. ableitung für alle 4 ansatzfunktionen\n",
    "    h_diff2[i,0] = diff(h[i,0],x,x) \n",
    "    \n",
    "\n",
    "init_printing()\n",
    "print(\"Ansatzfunktionen h_i :\")  \n",
    "print(\"----------------------\")\n",
    "for i in range(4):\n",
    "    display(h[i,0])\n",
    "print(\"         \")\n",
    "print(\"2. Ableitungen der Ansatzfunktionen h´´_i :\")  \n",
    "print(\"-------------------------------------------\")\n",
    "for i in range(4):\n",
    "    display(h_diff2[i,0])"
   ]
  },
  {
   "cell_type": "markdown",
   "metadata": {},
   "source": [
    "Wir beginnen nun mit der bestimmung der Elementsteifigkeitsmatrix. Da sich in jedem Element vier verschiedene Ansatzfunktioanen überlagern und vier essentielle Randbedingungen vorliegen ergibt sich eine [4x4]-Matrix. Durch die verwendung von zwei \"for-loops\" können wir jede Komponente der ESM einzeln ansteuern und evaluieren. Allerdings wären auch effizientere Algorithmen denkbar da es sich bei der ESM um eine symmetrische Matrix handelt; man benötigt also weniger rechenschritte wenn man die Matrix spiegelt. Es ist zu beachten, dass die ESM in diesem Beispiel für jedes Stabelement gleich aussieht (weil wir Elemente wählen die gleich lang sind und der balken homogene Eigenschaften aufweist). Im Allgemeinen kann für jedes Element eine individuelle ESM nötig sein (z.B. wenn eine koordinate in der Operatorgleichung vorkommt). Die Auswertung des Integrals erfolgt wieder durch \"sympy\"."
   ]
  },
  {
   "cell_type": "code",
   "execution_count": 4,
   "metadata": {
    "scrolled": false
   },
   "outputs": [
    {
     "name": "stdout",
     "output_type": "stream",
     "text": [
      "Elementsteifigkeitsmatrix k_ij :\n",
      "--------------------------------\n"
     ]
    },
    {
     "data": {
      "text/latex": [
       "$\\displaystyle \\left[\\begin{matrix}\\frac{12 E J}{l^{3}} & - \\frac{6 E J}{l^{2}} & - \\frac{12 E J}{l^{3}} & - \\frac{6 E J}{l^{2}}\\\\- \\frac{6 E J}{l^{2}} & \\frac{4 E J}{l} & \\frac{6 E J}{l^{2}} & \\frac{2 E J}{l}\\\\- \\frac{12 E J}{l^{3}} & \\frac{6 E J}{l^{2}} & \\frac{12 E J}{l^{3}} & \\frac{6 E J}{l^{2}}\\\\- \\frac{6 E J}{l^{2}} & \\frac{2 E J}{l} & \\frac{6 E J}{l^{2}} & \\frac{4 E J}{l}\\end{matrix}\\right]$"
      ],
      "text/plain": [
       "⎡ 12⋅E⋅J   -6⋅E⋅J   -12⋅E⋅J   -6⋅E⋅J ⎤\n",
       "⎢ ──────   ───────  ────────  ───────⎥\n",
       "⎢    3         2        3         2  ⎥\n",
       "⎢   l         l        l         l   ⎥\n",
       "⎢                                    ⎥\n",
       "⎢-6⋅E⋅J     4⋅E⋅J    6⋅E⋅J     2⋅E⋅J ⎥\n",
       "⎢───────    ─────    ─────     ───── ⎥\n",
       "⎢    2        l         2        l   ⎥\n",
       "⎢   l                  l             ⎥\n",
       "⎢                                    ⎥\n",
       "⎢-12⋅E⋅J    6⋅E⋅J    12⋅E⋅J    6⋅E⋅J ⎥\n",
       "⎢────────   ─────    ──────    ───── ⎥\n",
       "⎢    3         2        3         2  ⎥\n",
       "⎢   l         l        l         l   ⎥\n",
       "⎢                                    ⎥\n",
       "⎢-6⋅E⋅J     2⋅E⋅J    6⋅E⋅J     4⋅E⋅J ⎥\n",
       "⎢───────    ─────    ─────     ───── ⎥\n",
       "⎢    2        l         2        l   ⎥\n",
       "⎣   l                  l             ⎦"
      ]
     },
     "metadata": {},
     "output_type": "display_data"
    }
   ],
   "source": [
    "from keyClasses import * \n",
    "\n",
    "# definiere symbolische parameter\n",
    "E, J = symbols('E J')\n",
    "\n",
    "# initialisiere ESM (sympy array)\n",
    "k = zeros(4,4) \n",
    "\n",
    "# berechne ESM durch analytische integration der Operatorgleichung nach x von 0 bis l \n",
    "for i in range(4): \n",
    "    for j in range(4): \n",
    "        k[i,j] = integrate(E*J*h_diff2[i,0]*h_diff2[j,0], (x, 0, l))\n",
    "\n",
    "# vereinfachen        \n",
    "k = simplify(k)      \n",
    "\n",
    "init_printing()\n",
    "print(\"Elementsteifigkeitsmatrix k_ij :\")\n",
    "print(\"--------------------------------\")\n",
    "display(k)        "
   ]
  },
  {
   "cell_type": "markdown",
   "metadata": {},
   "source": [
    "Bei der evaluierung des Elementlastvektors kann in ähnlicher weise vorgegangen werden. Zuvor muss nur eine Streckenlast definiert werden. Verwende hierfür die zusätzlichen Parameter $q_0[N/mm]$, $L[mm]$ (Länge des Balkens) und die koordinate $x$. Für vertikale Punktlasten sowie abschnittsweise Streckenlasten kann die Diracfunktion verwendet werden. \n",
    "Es besteht außerdem die möglichkeit Winkelfunktionen zu verwenden. Anders als die ESM werden die ELVs aufgrund der beliebigen Streckenlast nicht identisch sein (außer für den Fall einer konstanten Streckenlast). Deshalb muss vor der berechnung festgelegt werden wie viele Elemente verwendet werden um den Balken zu modellieren um die Streckenlast richtig aufteilen zu können (sehr einfache form von \"mesh-generation\")."
   ]
  },
  {
   "cell_type": "code",
   "execution_count": 5,
   "metadata": {},
   "outputs": [
    {
     "name": "stdout",
     "output_type": "stream",
     "text": [
      "Elementlastvektoren f_j :\n",
      "-------------------------\n"
     ]
    },
    {
     "data": {
      "text/latex": [
       "$\\displaystyle \\left[\\begin{matrix}\\frac{L q_{0} \\left(- 5 L^{3} + 36 L^{2} l - 320 l^{3}\\right)}{61440 l^{3}}\\\\\\frac{L^{2} q_{0} \\left(5 L^{2} - 48 L l + 120 l^{2}\\right)}{122880 l^{2}}\\\\\\frac{L^{3} q_{0} \\left(5 L - 36 l\\right)}{61440 l^{3}}\\\\\\frac{L^{3} q_{0} \\left(5 L - 24 l\\right)}{122880 l^{2}}\\end{matrix}\\right]$"
      ],
      "text/plain": [
       "⎡     ⎛     3       2          3⎞⎤\n",
       "⎢L⋅q₀⋅⎝- 5⋅L  + 36⋅L ⋅l - 320⋅l ⎠⎥\n",
       "⎢────────────────────────────────⎥\n",
       "⎢                   3            ⎥\n",
       "⎢            61440⋅l             ⎥\n",
       "⎢                                ⎥\n",
       "⎢  2    ⎛   2                 2⎞ ⎥\n",
       "⎢ L ⋅q₀⋅⎝5⋅L  - 48⋅L⋅l + 120⋅l ⎠ ⎥\n",
       "⎢ ────────────────────────────── ⎥\n",
       "⎢                   2            ⎥\n",
       "⎢           122880⋅l             ⎥\n",
       "⎢                                ⎥\n",
       "⎢        3                       ⎥\n",
       "⎢       L ⋅q₀⋅(5⋅L - 36⋅l)       ⎥\n",
       "⎢       ──────────────────       ⎥\n",
       "⎢                   3            ⎥\n",
       "⎢            61440⋅l             ⎥\n",
       "⎢                                ⎥\n",
       "⎢        3                       ⎥\n",
       "⎢       L ⋅q₀⋅(5⋅L - 24⋅l)       ⎥\n",
       "⎢       ──────────────────       ⎥\n",
       "⎢                   2            ⎥\n",
       "⎣           122880⋅l             ⎦"
      ]
     },
     "metadata": {},
     "output_type": "display_data"
    },
    {
     "data": {
      "text/latex": [
       "$\\displaystyle \\left[\\begin{matrix}- \\frac{L q_{0} \\left(49 L^{3} - 372 L^{2} l + 4480 l^{3}\\right)}{122880 l^{3}}\\\\\\frac{L^{2} q_{0} \\left(49 L^{2} - 496 L l + 1360 l^{2}\\right)}{245760 l^{2}}\\\\\\frac{L^{3} q_{0} \\left(49 L - 372 l\\right)}{122880 l^{3}}\\\\\\frac{L^{3} q_{0} \\left(49 L - 248 l\\right)}{245760 l^{2}}\\end{matrix}\\right]$"
      ],
      "text/plain": [
       "⎡      ⎛    3        2           3⎞ ⎤\n",
       "⎢-L⋅q₀⋅⎝49⋅L  - 372⋅L ⋅l + 4480⋅l ⎠ ⎥\n",
       "⎢───────────────────────────────────⎥\n",
       "⎢                     3             ⎥\n",
       "⎢             122880⋅l              ⎥\n",
       "⎢                                   ⎥\n",
       "⎢  2    ⎛    2                   2⎞ ⎥\n",
       "⎢ L ⋅q₀⋅⎝49⋅L  - 496⋅L⋅l + 1360⋅l ⎠ ⎥\n",
       "⎢ ───────────────────────────────── ⎥\n",
       "⎢                     2             ⎥\n",
       "⎢             245760⋅l              ⎥\n",
       "⎢                                   ⎥\n",
       "⎢        3                          ⎥\n",
       "⎢       L ⋅q₀⋅(49⋅L - 372⋅l)        ⎥\n",
       "⎢       ────────────────────        ⎥\n",
       "⎢                    3              ⎥\n",
       "⎢            122880⋅l               ⎥\n",
       "⎢                                   ⎥\n",
       "⎢        3                          ⎥\n",
       "⎢       L ⋅q₀⋅(49⋅L - 248⋅l)        ⎥\n",
       "⎢       ────────────────────        ⎥\n",
       "⎢                    2              ⎥\n",
       "⎣            245760⋅l               ⎦"
      ]
     },
     "metadata": {},
     "output_type": "display_data"
    },
    {
     "data": {
      "text/latex": [
       "$\\displaystyle \\left[\\begin{matrix}- \\frac{L q_{0} \\left(59 L^{3} - 456 L^{2} l + 6080 l^{3}\\right)}{61440 l^{3}}\\\\\\frac{L^{2} q_{0} \\left(59 L^{2} - 608 L l + 1720 l^{2}\\right)}{122880 l^{2}}\\\\\\frac{L^{3} q_{0} \\left(59 L - 456 l\\right)}{61440 l^{3}}\\\\\\frac{L^{3} q_{0} \\left(59 L - 304 l\\right)}{122880 l^{2}}\\end{matrix}\\right]$"
      ],
      "text/plain": [
       "⎡      ⎛    3        2           3⎞ ⎤\n",
       "⎢-L⋅q₀⋅⎝59⋅L  - 456⋅L ⋅l + 6080⋅l ⎠ ⎥\n",
       "⎢───────────────────────────────────⎥\n",
       "⎢                     3             ⎥\n",
       "⎢              61440⋅l              ⎥\n",
       "⎢                                   ⎥\n",
       "⎢  2    ⎛    2                   2⎞ ⎥\n",
       "⎢ L ⋅q₀⋅⎝59⋅L  - 608⋅L⋅l + 1720⋅l ⎠ ⎥\n",
       "⎢ ───────────────────────────────── ⎥\n",
       "⎢                     2             ⎥\n",
       "⎢             122880⋅l              ⎥\n",
       "⎢                                   ⎥\n",
       "⎢        3                          ⎥\n",
       "⎢       L ⋅q₀⋅(59⋅L - 456⋅l)        ⎥\n",
       "⎢       ────────────────────        ⎥\n",
       "⎢                    3              ⎥\n",
       "⎢             61440⋅l               ⎥\n",
       "⎢                                   ⎥\n",
       "⎢        3                          ⎥\n",
       "⎢       L ⋅q₀⋅(59⋅L - 304⋅l)        ⎥\n",
       "⎢       ────────────────────        ⎥\n",
       "⎢                    2              ⎥\n",
       "⎣            122880⋅l               ⎦"
      ]
     },
     "metadata": {},
     "output_type": "display_data"
    },
    {
     "data": {
      "text/latex": [
       "$\\displaystyle \\left[\\begin{matrix}- \\frac{L q_{0} \\left(217 L^{3} - 1692 L^{2} l + 23680 l^{3}\\right)}{122880 l^{3}}\\\\\\frac{L^{2} q_{0} \\left(217 L^{2} - 2256 L l + 6480 l^{2}\\right)}{245760 l^{2}}\\\\\\frac{L^{3} q_{0} \\left(217 L - 1692 l\\right)}{122880 l^{3}}\\\\\\frac{L^{3} q_{0} \\left(217 L - 1128 l\\right)}{245760 l^{2}}\\end{matrix}\\right]$"
      ],
      "text/plain": [
       "⎡      ⎛     3         2            3⎞ ⎤\n",
       "⎢-L⋅q₀⋅⎝217⋅L  - 1692⋅L ⋅l + 23680⋅l ⎠ ⎥\n",
       "⎢──────────────────────────────────────⎥\n",
       "⎢                      3               ⎥\n",
       "⎢              122880⋅l                ⎥\n",
       "⎢                                      ⎥\n",
       "⎢  2    ⎛     2                    2⎞  ⎥\n",
       "⎢ L ⋅q₀⋅⎝217⋅L  - 2256⋅L⋅l + 6480⋅l ⎠  ⎥\n",
       "⎢ ───────────────────────────────────  ⎥\n",
       "⎢                      2               ⎥\n",
       "⎢              245760⋅l                ⎥\n",
       "⎢                                      ⎥\n",
       "⎢         3                            ⎥\n",
       "⎢        L ⋅q₀⋅(217⋅L - 1692⋅l)        ⎥\n",
       "⎢        ──────────────────────        ⎥\n",
       "⎢                      3               ⎥\n",
       "⎢              122880⋅l                ⎥\n",
       "⎢                                      ⎥\n",
       "⎢         3                            ⎥\n",
       "⎢        L ⋅q₀⋅(217⋅L - 1128⋅l)        ⎥\n",
       "⎢        ──────────────────────        ⎥\n",
       "⎢                      2               ⎥\n",
       "⎣              245760⋅l                ⎦"
      ]
     },
     "metadata": {},
     "output_type": "display_data"
    }
   ],
   "source": [
    "from keyClasses import * \n",
    "\n",
    "# Punktlasten: Diracfunktion = DiracDelta( x - <Angriffspunkt der Kraft> )\n",
    "# abschnittsweise Streckenlast: Integral(DiracDelta(x - <Sprungpunkt>), (x, 0, L))\n",
    "\n",
    "# definiere symbolische parameter\n",
    "q0, L = symbols(' q0 L ')\n",
    "\n",
    "\"\"\"definiere hier eine streckenlast q(x)\"\"\" \n",
    "def q(x, q0, L): \n",
    "#    return - q0*L * DiracDelta( x - 2000 )   # Punktlast in der mitte\n",
    "    return - q0 * (x/L)**2                   # polynom\n",
    "#    return - q0 * x/L                        # steigende dreieckslast\n",
    "\n",
    "\"\"\"gib hier an wieviele stabelemente du für die FE-Analyse verwenden möchtest\"\"\" \n",
    "# auch bei der verwendung von wenigen elementen können wir hier eine gute näherungslösung erwarten \n",
    "nr_elements = 4\n",
    "\n",
    "# initialisiere Elementlastvektoren \n",
    "f = zeros(4,nr_elements) \n",
    "\n",
    "# berechne ELVs durch analytische integration\n",
    "for i in range(nr_elements):\n",
    "    for j in range(4): \n",
    "        f[j,i] = integrate(q(x + L/nr_elements * i, q0, L)*h[j,0], (x, 0, L/nr_elements))\n",
    "\n",
    "# vereinfachen        \n",
    "f = simplify(f)\n",
    "\n",
    "init_printing()\n",
    "print(\"Elementlastvektoren f_j :\")\n",
    "print(\"-------------------------\")\n",
    "for i in range(nr_elements):\n",
    "    display(f[:,i]) "
   ]
  },
  {
   "cell_type": "markdown",
   "metadata": {},
   "source": [
    "## Assembly"
   ]
  },
  {
   "cell_type": "markdown",
   "metadata": {},
   "source": [
    "Ab jetzt ist es nichtmehr sinnvoll ESM und ESV analytisch zu betrachten weshalb wir die symbolischen ausdrücke durch numerische Werte ersetzen. "
   ]
  },
  {
   "cell_type": "code",
   "execution_count": 6,
   "metadata": {},
   "outputs": [
    {
     "name": "stdout",
     "output_type": "stream",
     "text": [
      "Elementlastvektoren f_j :\n",
      "-----------------------\n",
      "[[-41.6666666666667]\n",
      " [10416.6666666667]\n",
      " [-166.666666666667]\n",
      " [-20833.3333333333]]\n",
      "               \n",
      "[[-541.666666666667]\n",
      " [104166.666666667]\n",
      " [-916.666666666667]\n",
      " [-135416.666666667]]\n",
      "               \n",
      "[[-1666.66666666667]\n",
      " [302083.333333333]\n",
      " [-2291.66666666667]\n",
      " [-354166.666666667]]\n",
      "               \n",
      "[[-3416.66666666667]\n",
      " [604166.666666667]\n",
      " [-4291.66666666667]\n",
      " [-677083.333333333]]\n",
      "               \n",
      "                    \n",
      "Elementsteifigkeitsmatrix k_ij :\n",
      "--------------------------------\n",
      "[[2268.00000000000 -1134000.00000000 -2268.00000000000 -1134000.00000000]\n",
      " [-1134000.00000000 756000000.000000 1134000.00000000 378000000.000000]\n",
      " [-2268.00000000000 1134000.00000000 2268.00000000000 1134000.00000000]\n",
      " [-1134000.00000000 378000000.000000 1134000.00000000 756000000.000000]]\n"
     ]
    }
   ],
   "source": [
    "import numpy\n",
    "numpy.set_printoptions(precision=1)\n",
    "numpy.set_printoptions(suppress=True)\n",
    "\n",
    "\"\"\" hier können die eigenschaften des Balkens definiert werden \"\"\" \n",
    "# da die symbolischen ausdrücke nicht mit den numerischen werten verwechselt werden dürfen werden sie \n",
    "# hier durch \"_\" gekennzeichnet\n",
    "L_ = 4000 # [mm] \n",
    "J_ = 900000 # [mm^4]\n",
    "E_ = 210000 # [MPa]\n",
    "q0_ = 10 # [N/mm]\n",
    "\n",
    "# länge eines finiten elements\n",
    "l_ = L_/nr_elements # [mm] \n",
    "\n",
    "# konvertieren zu numpy array    \n",
    "k = asarray(k)   \n",
    "f = asarray(f)\n",
    "\n",
    "# substituiere ELV \n",
    "for j in range(nr_elements):\n",
    "    for i in range(len(f)):\n",
    "        f[i,j] = f[i,j].subs(q0, q0_)\n",
    "        f[i,j] = f[i,j].subs(l, l_)\n",
    "        f[i,j] = f[i,j].subs(L, L_)\n",
    "    \n",
    "# substituiere ESM\n",
    "for i in range(len(k)): \n",
    "    for j in range(len(k)):\n",
    "        k[i,j] = k[i,j].subs(E, E_)\n",
    "        k[i,j] = k[i,j].subs(J, J_)\n",
    "        k[i,j] = k[i,j].subs(L, L_)\n",
    "        k[i,j] = k[i,j].subs(l, l_)\n",
    "        \n",
    " \n",
    "\n",
    "print(\"Elementlastvektoren f_j :\")\n",
    "print(\"-----------------------\")\n",
    "for i in range(nr_elements):\n",
    "    print(array([f[:,i]]).T)\n",
    "    print(\"               \")\n",
    "print(\"                    \")\n",
    "print(\"Elementsteifigkeitsmatrix k_ij :\")\n",
    "print(\"--------------------------------\")\n",
    "print(k) \n"
   ]
  },
  {
   "cell_type": "markdown",
   "metadata": {},
   "source": [
    "Bei einer allgemeineren FE-Software müsste außerdem eine Transformationsmatrix definiert werden um zu berücksichtigen, dass nicht alle Elemente gleich groß und nicht gleich im Raum orientiert sind (Jacobi Matrix). Im Falle der Stabelemente kann gleich mit dem Aufstellen der Koinzidenztabelle fortgefahren werden. Diese wird benötigt um aus ESM und ELV das Gesamtgleichungssystem \"aufzubauen\". Die Koinzidenztabelle verknüpft die finiten Elemente so, dass in den Knoten die Gleichen Werte von Funktion und Steigung der Funktion erreicht werden (kontinuität). Deshalb verwendet man Polynome dritten Grades üblicherweise in der Form von \"Hermite Cubic Interpolation Functions\"; sie erlauben es die vier Freihetsgrade des Stabelementes durch einzelne Werte zu steuern. Die Koinzidenztabelle legt fest dass diese Werte für verschiedene Elemente im selben Knoten ident sein müssen. Für das Balkenmodell ist es relativ einfach die Koinzidenztabelle aufzustellen. Für allgemeine \"FE-mesh\"-Objekte sind sind die Algorithmen etwas komplizierter. "
   ]
  },
  {
   "cell_type": "code",
   "execution_count": 7,
   "metadata": {},
   "outputs": [
    {
     "name": "stdout",
     "output_type": "stream",
     "text": [
      "Spalten: lokale DoFs: w(0),w'(0),w(l),w'(l)\n",
      "Zeilen: elemente\n",
      "----------------\n",
      "[[0 1 2 3]\n",
      " [2 3 4 5]\n",
      " [4 5 6 7]\n",
      " [6 7 8 9]]\n"
     ]
    }
   ],
   "source": [
    "from keyClasses import * \n",
    "import numpy\n",
    "\n",
    "def coincidence_table(nr_elements): \n",
    "    \"\"\" input: number of elements \"\"\"\n",
    "    \n",
    "    # initialisiere koinzidenztabelle\n",
    "    coincidence_table = numpy.zeros((nr_elements,4), dtype=int, order='C')\n",
    "\n",
    "    # aufstellen der koinzidenztabelle \n",
    "    for element in range(nr_elements):\n",
    "        for lokalDoF in range(4):\n",
    "            coincidence_table[element,lokalDoF] = lokalDoF + 2 * element\n",
    "            \n",
    "    return coincidence_table \n",
    "\n",
    "T = coincidence_table(nr_elements)\n",
    "\n",
    "print(\"Spalten: lokale DoFs: w(0),w'(0),w(l),w'(l)\")\n",
    "print(\"Zeilen: elemente\")\n",
    "print(\"----------------\")\n",
    "print(T)"
   ]
  },
  {
   "cell_type": "markdown",
   "metadata": {},
   "source": [
    "Die Zeilen beschreiben Elemente und die vier Spalten beschreiben die lokalen Freiheitsgrade eines finiten Stabelementes. Der maximal auftretende Wert (+1) beschreibt die Anzahl der Globalen Freiheitsgrade. Dieser Wert ist auch die Seitenlänge der [NxN]-Gesamtsteifigkeitsmatrix sowie die Länge des Lastvektors. Im folgenden wird eine Funktion erstellt welche das Gesamtgleichungssystem aus ESM und ELVs mit hilfe der Koinzidenztabelle assembliert. Im Gegensatz zur Funktion \"coincidence_table\" welche nur für dieses Beispiel gültig ist hat die Funktion \"assemble\" allgemeine Gültigkeit:"
   ]
  },
  {
   "cell_type": "code",
   "execution_count": 8,
   "metadata": {},
   "outputs": [
    {
     "name": "stdout",
     "output_type": "stream",
     "text": [
      "Gesamtsteifigkeitsmatrix K :\n",
      "----------------------------\n",
      "[[ 2.3e+03 -1.1e+06 -2.3e+03 -1.1e+06  0.0e+00  0.0e+00  0.0e+00  0.0e+00\n",
      "   0.0e+00  0.0e+00]\n",
      " [-1.1e+06  7.6e+08  1.1e+06  3.8e+08  0.0e+00  0.0e+00  0.0e+00  0.0e+00\n",
      "   0.0e+00  0.0e+00]\n",
      " [-2.3e+03  1.1e+06  4.5e+03  0.0e+00 -2.3e+03 -1.1e+06  0.0e+00  0.0e+00\n",
      "   0.0e+00  0.0e+00]\n",
      " [-1.1e+06  3.8e+08  0.0e+00  1.5e+09  1.1e+06  3.8e+08  0.0e+00  0.0e+00\n",
      "   0.0e+00  0.0e+00]\n",
      " [ 0.0e+00  0.0e+00 -2.3e+03  1.1e+06  4.5e+03  0.0e+00 -2.3e+03 -1.1e+06\n",
      "   0.0e+00  0.0e+00]\n",
      " [ 0.0e+00  0.0e+00 -1.1e+06  3.8e+08  0.0e+00  1.5e+09  1.1e+06  3.8e+08\n",
      "   0.0e+00  0.0e+00]\n",
      " [ 0.0e+00  0.0e+00  0.0e+00  0.0e+00 -2.3e+03  1.1e+06  4.5e+03  0.0e+00\n",
      "  -2.3e+03 -1.1e+06]\n",
      " [ 0.0e+00  0.0e+00  0.0e+00  0.0e+00 -1.1e+06  3.8e+08  0.0e+00  1.5e+09\n",
      "   1.1e+06  3.8e+08]\n",
      " [ 0.0e+00  0.0e+00  0.0e+00  0.0e+00  0.0e+00  0.0e+00 -2.3e+03  1.1e+06\n",
      "   2.3e+03  1.1e+06]\n",
      " [ 0.0e+00  0.0e+00  0.0e+00  0.0e+00  0.0e+00  0.0e+00 -1.1e+06  3.8e+08\n",
      "   1.1e+06  7.6e+08]]\n",
      "              \n",
      "Lastvektor F :\n",
      "--------------\n",
      "[[    -41.7]\n",
      " [  10416.7]\n",
      " [   -708.3]\n",
      " [  83333.3]\n",
      " [  -2583.3]\n",
      " [ 166666.7]\n",
      " [  -5708.3]\n",
      " [ 250000. ]\n",
      " [  -4291.7]\n",
      " [-677083.3]]\n"
     ]
    }
   ],
   "source": [
    "from keyClasses import * \n",
    "import numpy \n",
    "\n",
    "def assemble(T,k,f,nr_elements): \n",
    "    \"\"\"input: coincidence Table, ESM, ELVs, number of elements\"\"\"\n",
    "    DoF = numpy.amax(T)+1      # anzahl globaler freiheitsgrade\n",
    "    K = numpy.zeros((DoF,DoF)) # matrix [nxn]\n",
    "    F = numpy.zeros((DoF,1))   # spaltenvektor [nx1]\n",
    "    \n",
    "    for element in range(nr_elements):         \n",
    "        \n",
    "        for k_index in numpy.ndindex((4,4)): \n",
    "            i = T[element,k_index[0]]\n",
    "            j = T[element,k_index[1]]\n",
    "            K[i,j] += k[k_index]\n",
    "\n",
    "        for f_index in range(4): \n",
    "            j = T[element,f_index]\n",
    "            F[j,0] += f[f_index, element]\n",
    "  \n",
    "    return K, F\n",
    "\n",
    "K, F = assemble(T,k,f,nr_elements)\n",
    "\n",
    "print(\"Gesamtsteifigkeitsmatrix K :\")\n",
    "print(\"----------------------------\")\n",
    "print(K)\n",
    "print(\"              \")\n",
    "print(\"Lastvektor F :\")\n",
    "print(\"--------------\")\n",
    "print(F)"
   ]
  },
  {
   "cell_type": "markdown",
   "metadata": {},
   "source": [
    "## Dirichlet Randbedingungen \n"
   ]
  },
  {
   "cell_type": "markdown",
   "metadata": {},
   "source": [
    "Bevor wir das Gleichungssystem lösen müssen wir noch die essentiellen- oder Dirichlet-Ranbedingungen einbringen. Das bedeutet wir müssen den Wert und die Steigung von $w(x)$ (sofern bekannt) am Anfang und am Ende des Balkens Festlegen. Üblicherweise (z.B. Feste Einspannung, Loslager) werden also bestimmte Komponenten von $\\underline{U}$ gleich null gesetzt. Man kann die Zeilen in denen eine Komponente von $\\underline{U}$ null wird sowie die korrespondierende Spalte von $\\underline{\\underline{K}}$ (d.h., die Spalte mit dem selben index) dann einfach \"herausstreichen\" (siehe Skriptum). Nach dem Lösen dieses verkleinerten Gleichungssystems muss man die Nullstellen dann wieder in $\\underline{U}$ rücksubstituieren (an der richtigen Stelle!). Daher wird im allgemeinen wieder die Koinzidenztabelle benötigt. Im Falle des Balken ist es einfach die betreffenden Komponenten von $\\underline{U}$ zu finden (es sind die ersten zwei und letzten zwei Komponenten von $\\underline{U}$ welche die Absenkung und Steigung am Rand steuern).\n"
   ]
  },
  {
   "cell_type": "code",
   "execution_count": 9,
   "metadata": {},
   "outputs": [
    {
     "name": "stdout",
     "output_type": "stream",
     "text": [
      "Gesamtsteifigkeitsmatrix K mit RB:\n",
      "----------------------------------\n",
      "[[ 7.6e+08  1.1e+06  3.8e+08  0.0e+00  0.0e+00  0.0e+00  0.0e+00]\n",
      " [ 1.1e+06  4.5e+03  0.0e+00 -2.3e+03 -1.1e+06  0.0e+00  0.0e+00]\n",
      " [ 3.8e+08  0.0e+00  1.5e+09  1.1e+06  3.8e+08  0.0e+00  0.0e+00]\n",
      " [ 0.0e+00 -2.3e+03  1.1e+06  4.5e+03  0.0e+00 -2.3e+03 -1.1e+06]\n",
      " [ 0.0e+00 -1.1e+06  3.8e+08  0.0e+00  1.5e+09  1.1e+06  3.8e+08]\n",
      " [ 0.0e+00  0.0e+00  0.0e+00 -2.3e+03  1.1e+06  4.5e+03  0.0e+00]\n",
      " [ 0.0e+00  0.0e+00  0.0e+00 -1.1e+06  3.8e+08  0.0e+00  1.5e+09]]\n",
      "                    \n",
      "Lastvektor F mit RB:\n",
      "--------------------\n",
      "[[ 10416.7]\n",
      " [  -708.3]\n",
      " [ 83333.3]\n",
      " [ -2583.3]\n",
      " [166666.7]\n",
      " [ -5708.3]\n",
      " [250000. ]]\n"
     ]
    }
   ],
   "source": [
    "from keyClasses import * \n",
    "import numpy \n",
    "\n",
    "# Randbedingungen \n",
    "\n",
    "\"\"\" gib hier die randbedingung \"0\" an um den freiheitsgrad zu sperren oder 'x' wenn du ihn beweglich lassen willst \"\"\"\n",
    "Dirichlet_RB = [0,'x',0,0] # [ w(0), w'(0), w(L), w'(L) ]\n",
    "\n",
    "\n",
    "# hier geben wir die indizes der DoFs an die am Rand liegen an (die ersten und letzten zwei DoFs)\n",
    "locations = [0, 1, -2, -1]\n",
    "\n",
    "\n",
    "# wir gehen alle 4 essentiellen Randbedingungen schrittweise durch..\n",
    "for i in range(4): \n",
    "    \n",
    "    # wenn es sich bei dem eintrag um 0 handelt löschen wir bestimmte zeilen und spalten\n",
    "    if Dirichlet_RB[i] == 0:   \n",
    "        \n",
    "        zeilenIndex = locations[i]\n",
    "        K = numpy.delete(K, zeilenIndex, axis=0) # lösche zeile\n",
    "        K = numpy.delete(K, zeilenIndex, axis=1) # lösche spalte\n",
    "        F = numpy.delete(F, zeilenIndex, axis=0) # lösche zeile\n",
    "\n",
    "        \n",
    "    # wenn es sich nicht um 0 handelt machen wir nichts    \n",
    "    else:\n",
    "        # ¯\\_(ツ) _/¯\n",
    "        pass\n",
    "        \n",
    "    \n",
    "    \n",
    "    \n",
    "print(\"Gesamtsteifigkeitsmatrix K mit RB:\")    \n",
    "print(\"----------------------------------\")\n",
    "print(K)    \n",
    "print(\"                    \")\n",
    "print(\"Lastvektor F mit RB:\")    \n",
    "print(\"--------------------\")\n",
    "print(F)"
   ]
  },
  {
   "cell_type": "markdown",
   "metadata": {},
   "source": [
    "Die Methoden der linearen Algebra erlauben es mit Hilfe der Inversen Matrix die Lösung eines linearen Gleichungssystems in einfacher weise zu bestimmen: \n",
    "$$ \\underline{U}= \\underline{\\underline{K}}_{}^{-1} \\underline{F} $$\n"
   ]
  },
  {
   "cell_type": "code",
   "execution_count": 10,
   "metadata": {},
   "outputs": [
    {
     "name": "stdout",
     "output_type": "stream",
     "text": [
      "Lösungsvektor U:\n",
      "----------------\n",
      "[[  0. ]\n",
      " [-12.6]\n",
      " [  0. ]\n",
      " [-17. ]\n",
      " [ -0. ]\n",
      " [ -9.3]\n",
      " [ -0. ]]\n"
     ]
    }
   ],
   "source": [
    "from keyClasses import * \n",
    "\n",
    "# Achtung: in numpy steht dot für die standard vector/matrix multiplikation (nicht punktprodukt)\n",
    "\n",
    "U = dot( inv(K) , F )\n",
    "\n",
    "print(\"Lösungsvektor U:\")    \n",
    "print(\"----------------\")\n",
    "print(U)"
   ]
  },
  {
   "cell_type": "markdown",
   "metadata": {},
   "source": [
    "Jetzt müssen die Werte der Randbedingungen rücksubstituiert werden: "
   ]
  },
  {
   "cell_type": "code",
   "execution_count": 11,
   "metadata": {
    "scrolled": true
   },
   "outputs": [
    {
     "name": "stdout",
     "output_type": "stream",
     "text": [
      "Lösungsvektor U mit RB:\n",
      "-----------------------\n",
      "[[  0. ]\n",
      " [  0. ]\n",
      " [-12.6]\n",
      " [  0. ]\n",
      " [-17. ]\n",
      " [ -0. ]\n",
      " [ -9.3]\n",
      " [ -0. ]\n",
      " [  0. ]\n",
      " [  0. ]]\n"
     ]
    }
   ],
   "source": [
    "from keyClasses import * \n",
    "import numpy \n",
    "\n",
    "# konvertieren zu listen-array (dann ist die manipulation leichter)\n",
    "u = U.T[0]\n",
    "\n",
    "# linker rand \n",
    "for i in range(2): \n",
    "    if Dirichlet_RB[i] == 0 : \n",
    "        u = numpy.insert(u, i, 0.0)\n",
    "    pass\n",
    "    \n",
    "\n",
    "# rechter rand\n",
    "if Dirichlet_RB[3] == 0 :\n",
    "    u = numpy.append(u, 0.0)\n",
    "\n",
    "if Dirichlet_RB[2] == 0 : \n",
    "    u = numpy.insert(u, -1, 0.0)     \n",
    "\n",
    "\n",
    "# konvertiern zu spaltenvektor\n",
    "U = numpy.array([u]).T        \n",
    "\n",
    "    \n",
    "print(\"Lösungsvektor U mit RB:\")    \n",
    "print(\"-----------------------\")\n",
    "print(U)"
   ]
  },
  {
   "cell_type": "markdown",
   "metadata": {},
   "source": [
    "## Visualisierung"
   ]
  },
  {
   "cell_type": "markdown",
   "metadata": {},
   "source": [
    "Bis zum jetzigen Zeitpunkt haben wir die Tatsache vernachlässigt, dass Ansatzfunktionen nicht nur in einem finiten Element definiert sind sondern sich über den ganzen Bereich erstrecken. Tatsächlich existieren gleich viele Ansatzfunktionen wie globale Freiheitsgrade (und nicht nur vier - in unserem Beispiel nehmen immer genau vier Funktionen einen Wert ungleich Null in einem Finiten Element an weshalb wir nur diese berücksichtigen müssen). Jede Ansatzfunktion muss nun mit dem zugehörigen Wert aus dem Lösungsvektor skaliert werden. Um zur FE-Lösung zu gelangen werden die resultierenden Funktionen danach superpositioniert."
   ]
  },
  {
   "cell_type": "code",
   "execution_count": 12,
   "metadata": {},
   "outputs": [
    {
     "data": {
      "image/png": "[encoded data removed]",
      "text/plain": [
       "<Figure size 432x288 with 1 Axes>"
      ]
     },
     "metadata": {
      "needs_background": "light"
     },
     "output_type": "display_data"
    }
   ],
   "source": [
    "from keyClasses import * \n",
    "import numpy\n",
    "from numpy import sin\n",
    "\n",
    "x = linspace(0,L_,1000)\n",
    "\n",
    "\n",
    "def pieces( boundary, element, elementLength, x): \n",
    "    p = element*2\n",
    "    if (elementLength * element) <= x <= (elementLength * element + elementLength) : \n",
    "        xi = x - elementLength * element \n",
    "        w = (h0(xi,l_)*boundary[0+p] + h1(xi,l_)*boundary[1+p] + h2(xi,l_)*boundary[2+p] + h3(xi,l_)*boundary[3+p])\n",
    "        return w \n",
    "    else: \n",
    "        return 0.0\n",
    "    \n",
    "y = numpy.zeros(len(x))\n",
    "for element in range(nr_elements): \n",
    "    for i in range(len(x)):\n",
    "        y[i] =  pieces( U, element, l_, x[i])\n",
    "    plt.plot(x,y,'k')\n",
    "\n",
    "plt.plot(x,-q(x,q0_,L_),'r')\n",
    "plt.show()"
   ]
  },
  {
   "cell_type": "code",
   "execution_count": null,
   "metadata": {},
   "outputs": [],
   "source": []
  },
  {
   "cell_type": "code",
   "execution_count": null,
   "metadata": {},
   "outputs": [],
   "source": []
  },
  {
   "cell_type": "code",
   "execution_count": null,
   "metadata": {},
   "outputs": [],
   "source": []
  }
 ],
 "metadata": {
  "kernelspec": {
   "display_name": "Python 3",
   "language": "python",
   "name": "python3"
  },
  "language_info": {
   "codemirror_mode": {
    "name": "ipython",
    "version": 3
   },
   "file_extension": ".py",
   "mimetype": "text/x-python",
   "name": "python",
   "nbconvert_exporter": "python",
   "pygments_lexer": "ipython3",
   "version": "3.7.6"
  }
 },
 "nbformat": 4,
 "nbformat_minor": 4
}
