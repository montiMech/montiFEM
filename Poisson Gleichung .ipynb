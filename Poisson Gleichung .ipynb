{
 "cells": [
  {
   "cell_type": "markdown",
   "metadata": {},
   "source": [
    "# FEM Beispiel: Poisson Gleichung"
   ]
  },
  {
   "cell_type": "markdown",
   "metadata": {},
   "source": [
    "#####  Zur Verfügung gestellt vom Institut für Mechanik der Montanuniversität Leoben \n",
    "#####  Kontakt für Fragen und Anmerkungen: wolfgang.flachberger@stud.unileoben.ac.at"
   ]
  },
  {
   "cell_type": "markdown",
   "metadata": {},
   "source": [
    "## Einführung"
   ]
  },
  {
   "cell_type": "markdown",
   "metadata": {},
   "source": [
    "Im Folgenden soll die Poisson Gleichung in einem zweidimensionalen Bereich unter Verwendung der Methode der Finiten Elemente näherungsweise gelöst werden. Die Poisson Gleichung tritt in der Physik unter anderem bei stationären Wärmeleitungsproblemen auf. Für die Mechanik ist sie insbesondere relevant da sie verwendet werden kann um die Absenkung einer Membran unter bestimmten Belastungen zu ermitteln. Eine weitere Anwendung der Poisson Gleichung ist die Bestimmung von Schubspannungen zufolge Torsion in einem Träger mit beliebigen Querschnitt (siehe Mechnik IA Skriptum). Letzteres werden wir hier für einen Träger mit quadratischem Querschnitt bestimmen. Unter Anwendung des Ritz'schen Verfahrens soll ein lineares Gleichungssystem aufgestellt werden, welches die Eigenschaften der Poisson Gleichung beschreibt:\n",
    "\n",
    "$$ \\Delta u(\\underline{x}) + q(\\underline{x}) = 0 \\;\\; \\longrightarrow \\;\\;  \\text{FEM-Analyse}  \\;\\; \\longrightarrow \\;\\; \\underline{\\underline{K}} \\; \\underline{U} = \\underline{F} $$ \n",
    "\n",
    "Unter Verwendung passender Ansatzfunktionen $h_i(\\underline{x})$ kann dann mithilfe des Lösungsvektors $ \\underline{U} = (u_0, u_1,.. u_i, .. u_n)^\\top $ eine kontinuierliche Näheungslösung angegeben werden: \n",
    "\n",
    "$$ u(\\underline{x})\\approx \\sum_{i=1}^{n} u_i h_i(\\underline{x}) $$\n",
    "\n",
    "Für das Torsionsproblem wird $q=2$ gewählt (siehe Mechnik IA Skriptum)."
   ]
  },
  {
   "cell_type": "markdown",
   "metadata": {},
   "source": [
    "## Analytische Vorarbeit"
   ]
  },
  {
   "cell_type": "markdown",
   "metadata": {},
   "source": [
    "Ausgangspunkt ist die Integrale Form der Poisson Gleichung mit $\\nu(\\underline{x})$ als Testfuntion:\n",
    "\n",
    "$$  \\int_{\\Omega} \\nabla^2 u \\; \\nu \\; dA = - \\int_{\\Omega} q \\; \\nu \\; dA $$\n",
    "\n",
    "Offensichtlich ist die Ordnung der Operatorgleichung gleich 2. Daraus folgt, dass die Integrale Form einmal partiell integriert werden muss um die natürlichen (Neumann) Randbedingungen zu berücksichtigen und das Ritz'sche Verfahren anzuwenden: \n",
    "\n",
    "$$ \\int_{\\partial \\Omega} ( \\nu \\; \\nabla u ) \\cdot \\underline{n}_{\\partial \\Omega}  \\; ds - \\int_{\\Omega} \\nabla u \\; \\cdot \\nabla \\nu \\; dA = - \\int_{\\Omega} q \\; \\nu \\; dA $$\n",
    "\n",
    "Offensichtlich verschwindet das Randintegral bei Auswertung da Testfunktionen die Eigenschaft besitzen, dass sie am Rand des Definitionsbereiches den Wert Null annehmen. Nach substituion der Näherungslösung und der Wahl von $ \\nu(\\underline{x}) = h(\\underline{x}) $ (Testfunktionen dürfen beliebig gewählt werden) erhält man das folgende Gleichungssystem: \n",
    "\n",
    "$$ \\sum_{i=1}^{e} u_i \\int_{\\Omega^{(e)}} \\nabla h_{i} \\cdot \\nabla h_{j} \\; dx = \\int_{\\Omega^{(e)}} h_{j} \\; q \\; dx $$\n",
    "\n",
    "Oder in Matrixschreibweise: \n",
    "\n",
    "$$ \\underline{\\underline{k}}_{}^{(e)}  \\underline{u}_{}^{(e)} = \\underline{f}_{}^{(e)} $$\n",
    "\n",
    "wobei, \n",
    "\n",
    "$$ \\underline{\\underline{k}}_{}^{(e)} = \\int_{\\Omega^{(e)}} \\nabla h_{i} \\cdot \\nabla h_{j} \\; dx $$ \n",
    "$$ \\underline{f}_{}^{(e)} = \\int_{\\Omega^{(e)}} h_{j} \\; q \\; dx $$\n",
    "\n"
   ]
  },
  {
   "cell_type": "markdown",
   "metadata": {},
   "source": [
    "## Element-Typ und Ansatzfunktionen"
   ]
  },
  {
   "cell_type": "markdown",
   "metadata": {},
   "source": [
    "Um Elementsteifigkeitsmatrix und Elementlastvektor explizit angeben zu können muss zuerst ein geeigneter Element-Typ mit passenden Ansatzfunktionen gewählt werden. Für zwei dimensionale Problemstellungen hat man die Wahl zwischen dreiecks- und vierecks-Elementen verschiedener Ordnung. Wir entscheiden uns für viereckige Elemente mit linearen Ansatzfunktionen und daher vier Knoten (diese können als das zweidimensionale Pendant zu linearen stabelementen verstanden werden). Da die Ansatzfunktionen beim Ritz'sche Verfahren für die Poisson Gleichung nur einmal differenziert werden müssen genügt dieser einfache Element-Typ."
   ]
  },
  {
   "cell_type": "code",
   "execution_count": 1,
   "metadata": {},
   "outputs": [
    {
     "name": "stdout",
     "output_type": "stream",
     "text": [
      "local coordinates:\n",
      "------------------\n"
     ]
    },
    {
     "data": {
      "image/png": "[encoded data removed]",
      "text/latex": [
       "$\\displaystyle \\xi_{0}$"
      ],
      "text/plain": [
       "ξ₀"
      ]
     },
     "metadata": {},
     "output_type": "display_data"
    },
    {
     "data": {
      "image/png": "[encoded data removed]",
      "text/latex": [
       "$\\displaystyle \\xi_{1}$"
      ],
      "text/plain": [
       "ξ₁"
      ]
     },
     "metadata": {},
     "output_type": "display_data"
    },
    {
     "name": "stdout",
     "output_type": "stream",
     "text": [
      "interpolation functions:\n",
      "------------------------\n"
     ]
    },
    {
     "data": {
      "text/latex": [
       "$\\displaystyle \\left[\\begin{matrix}\\frac{\\left(1 - \\xi_{0}\\right) \\left(1 - \\xi_{1}\\right)}{4}\\\\\\frac{\\left(1 - \\xi_{0}\\right) \\left(\\xi_{1} + 1\\right)}{4}\\\\\\frac{\\left(1 - \\xi_{1}\\right) \\left(\\xi_{0} + 1\\right)}{4}\\\\\\frac{\\left(\\xi_{0} + 1\\right) \\left(\\xi_{1} + 1\\right)}{4}\\end{matrix}\\right]$"
      ],
      "text/plain": [
       "⎡(1 - ξ₀)⋅(1 - ξ₁)⎤\n",
       "⎢─────────────────⎥\n",
       "⎢        4        ⎥\n",
       "⎢                 ⎥\n",
       "⎢(1 - ξ₀)⋅(ξ₁ + 1)⎥\n",
       "⎢─────────────────⎥\n",
       "⎢        4        ⎥\n",
       "⎢                 ⎥\n",
       "⎢(1 - ξ₁)⋅(ξ₀ + 1)⎥\n",
       "⎢─────────────────⎥\n",
       "⎢        4        ⎥\n",
       "⎢                 ⎥\n",
       "⎢(ξ₀ + 1)⋅(ξ₁ + 1)⎥\n",
       "⎢─────────────────⎥\n",
       "⎣        4        ⎦"
      ]
     },
     "metadata": {},
     "output_type": "display_data"
    }
   ],
   "source": [
    "import numpy\n",
    "import sympy\n",
    "\n",
    "l = 2 # länge des elements \n",
    "\n",
    "XI = numpy.asarray(sympy.symbols('xi:' + str(2))) # symbolischer vector mit lokalen koordinaten\n",
    "\n",
    "def interpolationFunctions(XI, l): \n",
    "\n",
    "        h = sympy.ones(4,1) # initialisiere symbolischen spaltenvektor für ansatzfunktionen\n",
    "         \n",
    "        # ansatzfunktionen: eine für jeden knoten\n",
    "        h[0] = ( 1 - XI[0] * 2/l )*( 1 - XI[1] * 2/l )/4\n",
    "        h[1] = ( 1 - XI[0] * 2/l )*( 1 + XI[1] * 2/l )/4\n",
    "        h[2] = ( 1 + XI[0] * 2/l )*( 1 - XI[1] * 2/l )/4\n",
    "        h[3] = ( 1 + XI[0] * 2/l )*( 1 + XI[1] * 2/l )/4\n",
    "\n",
    "        return h\n",
    "    \n",
    "h = interpolationFunctions(XI, l)  \n",
    "\n",
    "\n",
    "# ausgabe\n",
    "from IPython.display import display\n",
    "sympy.init_printing()\n",
    "print(\"local coordinates:\")\n",
    "print(\"------------------\")    \n",
    "for i in range(len(XI)):\n",
    "    display(XI[i])\n",
    "print(\"interpolation functions:\")\n",
    "print(\"------------------------\")    \n",
    "display(h)"
   ]
  },
  {
   "cell_type": "code",
   "execution_count": 2,
   "metadata": {},
   "outputs": [
    {
     "data": {
      "image/png": "[encoded data removed]",
      "text/plain": [
       "<Figure size 432x288 with 2 Axes>"
      ]
     },
     "metadata": {
      "needs_background": "light"
     },
     "output_type": "display_data"
    }
   ],
   "source": [
    "from mpl_toolkits.mplot3d import Axes3D  \n",
    "import matplotlib.pyplot as plt\n",
    "from matplotlib import cm\n",
    "\n",
    "fig = plt.figure()\n",
    "ax = fig.gca(projection='3d')\n",
    "\n",
    "X = numpy.arange(-1, 1, 0.1)\n",
    "Y = numpy.arange(-1, 1, 0.1)\n",
    "X, Y = numpy.meshgrid(X, Y)\n",
    "Z = ( 1 - X )*( 1 + Y )/4\n",
    "\n",
    "# Visualization\n",
    "surf = ax.plot_surface(X, Y, Z, cmap=cm.coolwarm, antialiased=True)\n",
    "fig.colorbar(surf, shrink=0.5, aspect=5)\n",
    "plt.show()"
   ]
  },
  {
   "cell_type": "code",
   "execution_count": 3,
   "metadata": {},
   "outputs": [
    {
     "name": "stdout",
     "output_type": "stream",
     "text": [
      "derivatives of interpolation functions:\n",
      "---------------------------------------\n"
     ]
    },
    {
     "data": {
      "text/latex": [
       "$\\displaystyle \\left[\\begin{matrix}\\frac{\\xi_{1}}{4} - \\frac{1}{4} & \\frac{\\xi_{0}}{4} - \\frac{1}{4}\\\\- \\frac{\\xi_{1}}{4} - \\frac{1}{4} & \\frac{1}{4} - \\frac{\\xi_{0}}{4}\\\\\\frac{1}{4} - \\frac{\\xi_{1}}{4} & - \\frac{\\xi_{0}}{4} - \\frac{1}{4}\\\\\\frac{\\xi_{1}}{4} + \\frac{1}{4} & \\frac{\\xi_{0}}{4} + \\frac{1}{4}\\end{matrix}\\right]$"
      ],
      "text/plain": [
       "⎡ ξ₁   1    ξ₀   1 ⎤\n",
       "⎢ ── - ─    ── - ─ ⎥\n",
       "⎢ 4    4    4    4 ⎥\n",
       "⎢                  ⎥\n",
       "⎢  ξ₁   1   1   ξ₀ ⎥\n",
       "⎢- ── - ─   ─ - ── ⎥\n",
       "⎢  4    4   4   4  ⎥\n",
       "⎢                  ⎥\n",
       "⎢ 1   ξ₁     ξ₀   1⎥\n",
       "⎢ ─ - ──   - ── - ─⎥\n",
       "⎢ 4   4      4    4⎥\n",
       "⎢                  ⎥\n",
       "⎢ ξ₁   1    ξ₀   1 ⎥\n",
       "⎢ ── + ─    ── + ─ ⎥\n",
       "⎣ 4    4    4    4 ⎦"
      ]
     },
     "metadata": {},
     "output_type": "display_data"
    }
   ],
   "source": [
    "def interpolationFunctionsDerivatives(XI, h):\n",
    "        \"\"\" interpolationfunction[node, derivativeaxis] \"\"\"\n",
    "        dh_dX = sympy.ones(4, 2) \n",
    "        for index in range(4): \n",
    "            for axis in range(2):\n",
    "                dh_dX[index,axis] = sympy.diff(h[index], XI[axis]) \n",
    "        return dh_dX \n",
    "    \n",
    "dh_dx = interpolationFunctionsDerivatives(XI, h)\n",
    "\n",
    "print(\"derivatives of interpolation functions:\")\n",
    "print(\"---------------------------------------\")    \n",
    "display(dh_dx)"
   ]
  },
  {
   "cell_type": "code",
   "execution_count": 4,
   "metadata": {},
   "outputs": [
    {
     "data": {
      "image/png": "[encoded data removed]",
      "text/plain": [
       "<Figure size 432x288 with 2 Axes>"
      ]
     },
     "metadata": {
      "needs_background": "light"
     },
     "output_type": "display_data"
    }
   ],
   "source": [
    "fig = plt.figure()\n",
    "ax = fig.gca(projection='3d')\n",
    "\n",
    "X = numpy.arange(-1, 1, 0.1)\n",
    "Y = numpy.arange(-1, 1, 0.1)\n",
    "X, Y = numpy.meshgrid(X, Y)\n",
    "Z = (-X + 1) * 4\n",
    "\n",
    "# Visualization\n",
    "surf = ax.plot_surface(X, Y, Z, cmap=cm.coolwarm, antialiased=True)\n",
    "fig.colorbar(surf, shrink=0.5, aspect=5)\n",
    "plt.show()"
   ]
  },
  {
   "cell_type": "markdown",
   "metadata": {},
   "source": [
    "### Initialisation of the mesh"
   ]
  },
  {
   "cell_type": "code",
   "execution_count": 5,
   "metadata": {},
   "outputs": [
    {
     "name": "stdout",
     "output_type": "stream",
     "text": [
      "Total number of elements used : 100\n",
      "Total number of global nodes : 121\n"
     ]
    }
   ],
   "source": [
    "\"\"\" Definiere mesh \"\"\" \n",
    "\n",
    "domain = [(0,1),(0,1)] \n",
    "resolution = 0.1\n",
    "\n",
    "\n",
    "import numpy \n",
    "\n",
    "dimension = 2\n",
    "nodes_per_element = 4\n",
    "nr_el_dim = [] # initialize list with number of elements necessary per axis\n",
    "nr_nd_dim = [] # initialize list with number of nodes necessary per axis\n",
    "for index in range(dimension): # for every dimension\n",
    "    length = domain[index][1] - domain[index][0] # take length of \"box\"\n",
    "    nr_el_dim.append(int(length/resolution)) # approximate the domain (division without remainder)\n",
    "    nr_nd_dim.append(nr_el_dim[index] + 1)\n",
    "    pass\n",
    "nr_el_dim = tuple(nr_el_dim)\n",
    "nr_nd_dim = tuple(nr_nd_dim)\n",
    "number_elements = numpy.prod(nr_el_dim) # total amount of elements\n",
    "DoF = numpy.prod(nr_nd_dim) # total amount of gloabal nodes (= DoFs)\n",
    "\n",
    "print(\"Total number of elements used :\",number_elements)\n",
    "print(\"Total number of global nodes :\", DoF)"
   ]
  },
  {
   "cell_type": "markdown",
   "metadata": {},
   "source": [
    "We now know how many elements and nodes there are and how many elements we need to stack upon each other in each axis direction. The next step is to assign a number to every degree of freedom (node) and arrange the numbers in the same way the corresponding nodes are arranged in the mesh. It is then easy to find the name (number) of a node as the the elements of the mesh and the numbering array have corresponding indices."
   ]
  },
  {
   "cell_type": "code",
   "execution_count": 6,
   "metadata": {},
   "outputs": [
    {
     "name": "stdout",
     "output_type": "stream",
     "text": [
      "[[  0   1   2   3   4   5   6   7   8   9  10]\n",
      " [ 11  12  13  14  15  16  17  18  19  20  21]\n",
      " [ 22  23  24  25  26  27  28  29  30  31  32]\n",
      " [ 33  34  35  36  37  38  39  40  41  42  43]\n",
      " [ 44  45  46  47  48  49  50  51  52  53  54]\n",
      " [ 55  56  57  58  59  60  61  62  63  64  65]\n",
      " [ 66  67  68  69  70  71  72  73  74  75  76]\n",
      " [ 77  78  79  80  81  82  83  84  85  86  87]\n",
      " [ 88  89  90  91  92  93  94  95  96  97  98]\n",
      " [ 99 100 101 102 103 104 105 106 107 108 109]\n",
      " [110 111 112 113 114 115 116 117 118 119 120]]\n"
     ]
    }
   ],
   "source": [
    "# initialize a list-array: 0, 1, 2,..\n",
    "nodes = numpy.arange(DoF,dtype=int)\n",
    "\n",
    "# as it is not important how we call each node we can simply reshape \"nodes\"\n",
    "node_names_global = numpy.reshape(nodes,(nr_nd_dim),order='C')\n",
    "\n",
    "print(node_names_global)\n"
   ]
  },
  {
   "cell_type": "markdown",
   "metadata": {},
   "source": [
    "### The coincidence table"
   ]
  },
  {
   "cell_type": "code",
   "execution_count": 7,
   "metadata": {},
   "outputs": [
    {
     "name": "stdout",
     "output_type": "stream",
     "text": [
      "[[  0   1  11  12]\n",
      " [  1   2  12  13]\n",
      " [  2   3  13  14]\n",
      " [  3   4  14  15]\n",
      " [  4   5  15  16]\n",
      " [  5   6  16  17]\n",
      " [  6   7  17  18]\n",
      " [  7   8  18  19]\n",
      " [  8   9  19  20]\n",
      " [  9  10  20  21]\n",
      " [ 11  12  22  23]\n",
      " [ 12  13  23  24]\n",
      " [ 13  14  24  25]\n",
      " [ 14  15  25  26]\n",
      " [ 15  16  26  27]\n",
      " [ 16  17  27  28]\n",
      " [ 17  18  28  29]\n",
      " [ 18  19  29  30]\n",
      " [ 19  20  30  31]\n",
      " [ 20  21  31  32]\n",
      " [ 22  23  33  34]\n",
      " [ 23  24  34  35]\n",
      " [ 24  25  35  36]\n",
      " [ 25  26  36  37]\n",
      " [ 26  27  37  38]\n",
      " [ 27  28  38  39]\n",
      " [ 28  29  39  40]\n",
      " [ 29  30  40  41]\n",
      " [ 30  31  41  42]\n",
      " [ 31  32  42  43]\n",
      " [ 33  34  44  45]\n",
      " [ 34  35  45  46]\n",
      " [ 35  36  46  47]\n",
      " [ 36  37  47  48]\n",
      " [ 37  38  48  49]\n",
      " [ 38  39  49  50]\n",
      " [ 39  40  50  51]\n",
      " [ 40  41  51  52]\n",
      " [ 41  42  52  53]\n",
      " [ 42  43  53  54]\n",
      " [ 44  45  55  56]\n",
      " [ 45  46  56  57]\n",
      " [ 46  47  57  58]\n",
      " [ 47  48  58  59]\n",
      " [ 48  49  59  60]\n",
      " [ 49  50  60  61]\n",
      " [ 50  51  61  62]\n",
      " [ 51  52  62  63]\n",
      " [ 52  53  63  64]\n",
      " [ 53  54  64  65]\n",
      " [ 55  56  66  67]\n",
      " [ 56  57  67  68]\n",
      " [ 57  58  68  69]\n",
      " [ 58  59  69  70]\n",
      " [ 59  60  70  71]\n",
      " [ 60  61  71  72]\n",
      " [ 61  62  72  73]\n",
      " [ 62  63  73  74]\n",
      " [ 63  64  74  75]\n",
      " [ 64  65  75  76]\n",
      " [ 66  67  77  78]\n",
      " [ 67  68  78  79]\n",
      " [ 68  69  79  80]\n",
      " [ 69  70  80  81]\n",
      " [ 70  71  81  82]\n",
      " [ 71  72  82  83]\n",
      " [ 72  73  83  84]\n",
      " [ 73  74  84  85]\n",
      " [ 74  75  85  86]\n",
      " [ 75  76  86  87]\n",
      " [ 77  78  88  89]\n",
      " [ 78  79  89  90]\n",
      " [ 79  80  90  91]\n",
      " [ 80  81  91  92]\n",
      " [ 81  82  92  93]\n",
      " [ 82  83  93  94]\n",
      " [ 83  84  94  95]\n",
      " [ 84  85  95  96]\n",
      " [ 85  86  96  97]\n",
      " [ 86  87  97  98]\n",
      " [ 88  89  99 100]\n",
      " [ 89  90 100 101]\n",
      " [ 90  91 101 102]\n",
      " [ 91  92 102 103]\n",
      " [ 92  93 103 104]\n",
      " [ 93  94 104 105]\n",
      " [ 94  95 105 106]\n",
      " [ 95  96 106 107]\n",
      " [ 96  97 107 108]\n",
      " [ 97  98 108 109]\n",
      " [ 99 100 110 111]\n",
      " [100 101 111 112]\n",
      " [101 102 112 113]\n",
      " [102 103 113 114]\n",
      " [103 104 114 115]\n",
      " [104 105 115 116]\n",
      " [105 106 116 117]\n",
      " [106 107 117 118]\n",
      " [107 108 118 119]\n",
      " [108 109 119 120]]\n"
     ]
    }
   ],
   "source": [
    "def coincidenceTable(number_elements, nodes_per_element, dimension, nr_el_dim, node_names_global): \n",
    "        \"\"\" coincidence_table[element,node] \"\"\"\n",
    "        \n",
    "        # initialize coincidence table array \n",
    "        coincidence_table = numpy.zeros((number_elements,nodes_per_element), dtype=int, order='C')\n",
    "        \n",
    "        i = 0 # set row count to zero\n",
    "        for element_indices in numpy.ndindex(nr_el_dim): # for every element\n",
    "            j = 0 # set local node count to zero\n",
    "            for node_indices in numpy.ndindex((2,)*dimension): # for every local node in elmenet\n",
    "                location = tuple([sum(x) for x in zip(element_indices,node_indices)])# find global location of node\n",
    "                coincidence_table[i,j] = node_names_global[location] # put node name to table\n",
    "                j += 1 # next element in row\n",
    "                pass\n",
    "            i += 1 # next row\n",
    "            pass\n",
    "        return coincidence_table    \n",
    "\n",
    "T = coincidenceTable(number_elements, nodes_per_element, dimension, nr_el_dim, node_names_global)\n",
    "print(T)   "
   ]
  },
  {
   "cell_type": "markdown",
   "metadata": {},
   "source": [
    "### Definieren des Variationsproblems"
   ]
  },
  {
   "cell_type": "code",
   "execution_count": 8,
   "metadata": {},
   "outputs": [],
   "source": [
    "\"\"\" input skript \"\"\" \n",
    "\n",
    "def q(X):\n",
    "    x0 = X[0]\n",
    "    x1 = X[1]\n",
    "    return 2\n",
    "\n",
    "\n",
    "# definiere rand\n",
    "def boundary(X_b): \n",
    "    xb0 = X_b[0]\n",
    "    xb1 = X_b[1]\n",
    "    \n",
    "    b11 = xb0\n",
    "    b12 = 0.0\n",
    "    \n",
    "    b21 = xb0 - 1.0\n",
    "    b22 = 0.0\n",
    "    \n",
    "    b31 = 0.0\n",
    "    b32 = xb1\n",
    "    \n",
    "    b41 = 0.0\n",
    "    b42 = xb1 - 1.0\n",
    "    \n",
    "    return [[b11, b12],[b21, b22],[b31, b32],[b41, b42]]\n",
    "\n",
    "\n",
    "# definiere randwerte\n",
    "def boundaryValue(X_b): \n",
    "    xb0 = X_b[0]\n",
    "    xb1 = X_b[1]\n",
    "    return 0 "
   ]
  },
  {
   "cell_type": "code",
   "execution_count": 9,
   "metadata": {},
   "outputs": [
    {
     "name": "stdout",
     "output_type": "stream",
     "text": [
      "Resultierendes Variationsproblem :\n",
      "----------------------------------\n"
     ]
    },
    {
     "data": {
      "image/png": "[encoded data removed]",
      "text/latex": [
       "$\\displaystyle u_{x0} v_{x0} + u_{x1} v_{x1} + 2 = 0$"
      ],
      "text/plain": [
       "uₓ₀⋅vₓ₀ + uₓ₁⋅vₓ₁ + 2 = 0"
      ]
     },
     "metadata": {},
     "output_type": "display_data"
    }
   ],
   "source": [
    "\n",
    "X = numpy.asarray(sympy.symbols('x:' + str(dimension)))\n",
    "dv_dx = numpy.asarray(sympy.symbols('v_x:' + str(dimension)))\n",
    "du_dx = numpy.asarray(sympy.symbols('u_x:' + str(dimension)))\n",
    "\n",
    "# Operatorgleichung\n",
    "Au = numpy.dot( du_dx, dv_dx )  \n",
    "\n",
    "# ausgabe\n",
    "equation = sympy.Eq(Au + q(X), 0)\n",
    "print(\"Resultierendes Variationsproblem :\")\n",
    "print(\"----------------------------------\")\n",
    "display(equation)"
   ]
  },
  {
   "cell_type": "markdown",
   "metadata": {},
   "source": [
    "### ESM and ELV"
   ]
  },
  {
   "cell_type": "code",
   "execution_count": 10,
   "metadata": {},
   "outputs": [
    {
     "data": {
      "text/latex": [
       "$\\displaystyle \\left[\\begin{matrix}0.666666666666667 & -0.166666666666667 & -0.166666666666667 & -0.333333333333333\\\\-0.166666666666667 & 0.666666666666667 & -0.333333333333333 & -0.166666666666667\\\\-0.166666666666667 & -0.333333333333333 & 0.666666666666667 & -0.166666666666667\\\\-0.333333333333333 & -0.166666666666667 & -0.166666666666667 & 0.666666666666667\\end{matrix}\\right]$"
      ],
      "text/plain": [
       "⎡0.666666666666667   -0.166666666666667  -0.166666666666667  -0.33333333333333\n",
       "⎢                                                                             \n",
       "⎢-0.166666666666667  0.666666666666667   -0.333333333333333  -0.16666666666666\n",
       "⎢                                                                             \n",
       "⎢-0.166666666666667  -0.333333333333333  0.666666666666667   -0.16666666666666\n",
       "⎢                                                                             \n",
       "⎣-0.333333333333333  -0.166666666666667  -0.166666666666667  0.666666666666667\n",
       "\n",
       "3⎤\n",
       " ⎥\n",
       "7⎥\n",
       " ⎥\n",
       "7⎥\n",
       " ⎥\n",
       " ⎦"
      ]
     },
     "metadata": {},
     "output_type": "display_data"
    }
   ],
   "source": [
    "# ansatzfunktionen und deren ableitungen\n",
    "h = interpolationFunctions(XI, resolution)  \n",
    "dh_dx = interpolationFunctionsDerivatives(XI, h)\n",
    "\n",
    "\n",
    "def elementStiffnessMatrixAnalytic(Au, dv_dx, du_dx, h, dh_dx, X, XI, nodes_per_element, dimension, resolution): \n",
    "    \n",
    "    k_ij = sympy.zeros(nodes_per_element,nodes_per_element)\n",
    "    for i in range(nodes_per_element): \n",
    "        for j in range(nodes_per_element):\n",
    "            k_ij[i,j] = Au.subs([(du_dx[0], dh_dx[i,0]), (du_dx[1], dh_dx[i,1]), (dv_dx[0], dh_dx[j,0]), (dv_dx[1], dh_dx[j,1])])   \n",
    "    \n",
    "    # prepare substitution for coordinate transformation\n",
    "    x_to_xi = []\n",
    "    for j in range(dimension):\n",
    "        x_to_xi.append( (X[j], XI[j] + X[j]) )\n",
    "    \n",
    "    # transform to local coordinate frame and integrate\n",
    "    for indices in numpy.ndindex(k_ij.shape):  \n",
    "        k_ij[indices] = k_ij[indices].subs(x_to_xi)    \n",
    "        for i in range(dimension): \n",
    "            k_ij[indices] = sympy.integrate(k_ij[indices],(XI[i],-resolution/2,resolution/2))\n",
    "    \n",
    "    return k_ij\n",
    "\n",
    "k_ij = elementStiffnessMatrixAnalytic(Au, dv_dx, du_dx, h, dh_dx, X, XI, nodes_per_element, dimension, resolution)\n",
    "display(k_ij)   "
   ]
  },
  {
   "cell_type": "code",
   "execution_count": 11,
   "metadata": {},
   "outputs": [
    {
     "data": {
      "text/latex": [
       "$\\displaystyle \\left[\\begin{matrix}0.005\\\\0.005\\\\0.005\\\\0.005\\end{matrix}\\right]$"
      ],
      "text/plain": [
       "⎡0.005⎤\n",
       "⎢     ⎥\n",
       "⎢0.005⎥\n",
       "⎢     ⎥\n",
       "⎢0.005⎥\n",
       "⎢     ⎥\n",
       "⎣0.005⎦"
      ]
     },
     "metadata": {},
     "output_type": "display_data"
    }
   ],
   "source": [
    "def elementLoadVectorAnalytic(h, q, X, XI, nodes_per_element, dimension, resolution): \n",
    "        \n",
    "    f_j = h * q(X)\n",
    "        \n",
    "    # prepare substitution for transformation\n",
    "    x_to_xi = []\n",
    "    for j in range(dimension):\n",
    "        x_to_xi.append( (X[j], XI[j] + X[j]) )\n",
    "        \n",
    "    # transform and integrate\n",
    "    for j in range(nodes_per_element):  \n",
    "        f_j[j] = f_j[j].subs(x_to_xi)    \n",
    "        for dim in range(dimension): \n",
    "            f_j[j] = sympy.integrate(f_j[j],(XI[dim], -resolution/2, resolution/2))\n",
    "    return f_j\n",
    "    \n",
    "f_j = elementLoadVectorAnalytic(h, q, X, XI, nodes_per_element, dimension, resolution)\n",
    "display(f_j)"
   ]
  },
  {
   "cell_type": "markdown",
   "metadata": {},
   "source": [
    "### The Assembly"
   ]
  },
  {
   "cell_type": "code",
   "execution_count": 12,
   "metadata": {},
   "outputs": [
    {
     "name": "stdout",
     "output_type": "stream",
     "text": [
      "Gesamtsteifigkeitmatrix :\n",
      "-------------------------\n",
      "[[ 0.667 -0.167  0.    ...  0.     0.     0.   ]\n",
      " [-0.167  1.333 -0.167 ...  0.     0.     0.   ]\n",
      " [ 0.    -0.167  1.333 ...  0.     0.     0.   ]\n",
      " ...\n",
      " [ 0.     0.     0.    ...  1.333 -0.167  0.   ]\n",
      " [ 0.     0.     0.    ... -0.167  1.333 -0.167]\n",
      " [ 0.     0.     0.    ...  0.    -0.167  0.667]]\n"
     ]
    }
   ],
   "source": [
    "def assemble(T, DoF, k_ij, f_j, X, nodes_per_element, resolution): \n",
    "        \n",
    "    # initialize transport arrays    \n",
    "    k = numpy.zeros((nodes_per_element, nodes_per_element))    \n",
    "    f = numpy.zeros((nodes_per_element, 1))\n",
    "    \n",
    "    # initialize stiffnessmatrix and loadvector of the whole system\n",
    "    K_ = numpy.zeros((DoF,DoF)) \n",
    "    F_ = numpy.zeros((DoF,1))\n",
    "        \n",
    "    el = 0 # element counter\n",
    "    for e_index in numpy.ndindex(nr_el_dim): # for every element\n",
    "        \n",
    "        # prepare substitution for element\n",
    "        evaluate = []\n",
    "        e_location = numpy.asarray(e_index) * resolution + numpy.ones(dimension)*resolution\n",
    "        for i in range(dimension):\n",
    "            evaluate.append( (X[i], e_location[i] ))\n",
    "            \n",
    "        # evaluate k_ij and f_j for element  \n",
    "        for indices in numpy.ndindex((nodes_per_element, nodes_per_element)):  \n",
    "            k[indices] = k_ij[indices].subs(evaluate)  \n",
    "            \n",
    "        for j in range(nodes_per_element):  \n",
    "            f[j,0] = f_j[j].subs(evaluate)  \n",
    "            \n",
    "        # assemble K_ and F_ \n",
    "        for k_index in numpy.ndindex((nodes_per_element, nodes_per_element)): \n",
    "            i = T[el,k_index[0]]\n",
    "            j = T[el,k_index[1]]\n",
    "            K_[i,j] += k[k_index] #round(k[k_index],1)\n",
    "\n",
    "        for f_index in range(nodes_per_element):   \n",
    "            F_[T[el,f_index],0] += f[f_index,0] #round(f[f_index,0],1)\n",
    "            \n",
    "        el += 1 # next element\n",
    "    \n",
    "    return K_, F_\n",
    "\n",
    "K_, F_ = assemble(T, DoF, k_ij, f_j, X, nodes_per_element, resolution)\n",
    "\n",
    "numpy.set_printoptions(precision=3)\n",
    "print(\"Gesamtsteifigkeitmatrix :\")\n",
    "print(\"-------------------------\") \n",
    "print(K_)"
   ]
  },
  {
   "cell_type": "markdown",
   "metadata": {},
   "source": [
    "### Applying the Boundary Condition"
   ]
  },
  {
   "cell_type": "code",
   "execution_count": 13,
   "metadata": {},
   "outputs": [
    {
     "name": "stdout",
     "output_type": "stream",
     "text": [
      "Boundary Nodes :\n",
      "----------------\n",
      "[0, 1, 2, 3, 4, 5, 6, 7, 8, 9, 10, 110, 111, 112, 113, 114, 115, 116, 117, 118, 119, 120, 11, 22, 33, 44, 55, 66, 77, 88, 99, 21, 32, 43, 54, 65, 76, 87, 98, 109]\n"
     ]
    }
   ],
   "source": [
    "def removeDuplicates(listofElements):\n",
    "    # Create an empty list to store unique elements\n",
    "    uniqueList = []\n",
    "    # Iterate over the original list and for each element\n",
    "    # add it to uniqueList, if its not already there.\n",
    "    for elem in listofElements:\n",
    "        if elem not in uniqueList:\n",
    "            uniqueList.append(elem)\n",
    "    # Return the list of unique elements        \n",
    "    return uniqueList\n",
    "\n",
    "\n",
    "def boundaryNodes(boundary, domain, nr_nd_dim, dimension, resolution): \n",
    "    node_locations_global = numpy.zeros(nr_nd_dim + (dimension,))\n",
    "    initialPoint = []\n",
    "    for i in range(dimension): \n",
    "        initialPoint.append(domain[i][0])\n",
    "    initialPoint = numpy.asarray(initialPoint)\n",
    "    for indices in numpy.ndindex(nr_nd_dim):\n",
    "        step = numpy.asarray(list(indices))\n",
    "        node_locations_global[indices] = initialPoint + step * resolution\n",
    "    boundary_nodes = []\n",
    "    boundary_node_indices = []\n",
    "    for i in range(4):\n",
    "        for indices in numpy.ndindex(nr_nd_dim):    \n",
    "            if boundary(node_locations_global[indices])[i] == [0.0, 0.0]: \n",
    "                boundary_nodes.append(node_names_global[indices])\n",
    "                boundary_node_indices.append(indices)\n",
    "        if boundary_nodes == []: \n",
    "            print(\"ERROR: no boundary nodes found.\")\n",
    "    return removeDuplicates(boundary_nodes), removeDuplicates(boundary_node_indices), node_locations_global\n",
    "\n",
    "\n",
    "bNodes, bNodeInd, nodeLoc = boundaryNodes(boundary, domain, nr_nd_dim, dimension, resolution)\n",
    "\n",
    "\n",
    "print(\"Boundary Nodes :\")\n",
    "print(\"----------------\") \n",
    "print(bNodes)"
   ]
  },
  {
   "cell_type": "code",
   "execution_count": 14,
   "metadata": {},
   "outputs": [
    {
     "name": "stdout",
     "output_type": "stream",
     "text": [
      "[[0.    0.    0.    0.    0.    0.    0.    0.    0.    0.    0.   ]\n",
      " [0.    0.027 0.042 0.052 0.057 0.059 0.057 0.052 0.042 0.027 0.   ]\n",
      " [0.    0.042 0.07  0.087 0.097 0.1   0.097 0.087 0.07  0.042 0.   ]\n",
      " [0.    0.052 0.087 0.111 0.124 0.128 0.124 0.111 0.087 0.052 0.   ]\n",
      " [0.    0.057 0.097 0.124 0.139 0.143 0.139 0.124 0.097 0.057 0.   ]\n",
      " [0.    0.059 0.1   0.128 0.143 0.149 0.143 0.128 0.1   0.059 0.   ]\n",
      " [0.    0.057 0.097 0.124 0.139 0.143 0.139 0.124 0.097 0.057 0.   ]\n",
      " [0.    0.052 0.087 0.111 0.124 0.128 0.124 0.111 0.087 0.052 0.   ]\n",
      " [0.    0.042 0.07  0.087 0.097 0.1   0.097 0.087 0.07  0.042 0.   ]\n",
      " [0.    0.027 0.042 0.052 0.057 0.059 0.057 0.052 0.042 0.027 0.   ]\n",
      " [0.    0.    0.    0.    0.    0.    0.    0.    0.    0.    0.   ]]\n"
     ]
    }
   ],
   "source": [
    "from numpy.linalg import inv\n",
    "\n",
    "def applyBoundaryCondition(K_, F_, boundaryValue, DoF, bNodes, bNodeInd, nodeLoc, nr_nd_dim): \n",
    "    \n",
    "    U_ = numpy.zeros((DoF,1))\n",
    "    i = 0\n",
    "    for node in bNodes:\n",
    "        U_[node] = boundaryValue(nodeLoc[bNodeInd[i]])\n",
    "        i += 1\n",
    "    delta_F = numpy.dot(K_,U_)\n",
    "    F_ = F_ - delta_F\n",
    "\n",
    "    # delete rows with fixed U values from the system of equations\n",
    "    K_ = numpy.delete(K_, bNodes, 0)\n",
    "    K_ = numpy.delete(K_, bNodes, 1)\n",
    "    F_ = numpy.array([numpy.delete(F_, bNodes)]).T\n",
    "\n",
    "    # solve system of equations\n",
    "    U_ = numpy.dot( inv(K_), F_ )\n",
    "\n",
    "    # insert boundary values\n",
    "    bvals =[] \n",
    "    for i in bNodeInd: \n",
    "        bvals.append(boundaryValue(nodeLoc[i]))\n",
    "\n",
    "    for i in range(len(bNodes)): \n",
    "        U_ = numpy.insert(U_, list(set(bNodes))[i], bvals[i])\n",
    "    \n",
    "    U_ = numpy.array([U_]).T \n",
    "    \n",
    "    S = numpy.reshape(U_,(nr_nd_dim),order='C')    \n",
    "        \n",
    "    return S\n",
    "\n",
    "S = applyBoundaryCondition(K_, F_, boundaryValue, DoF, bNodes, bNodeInd, nodeLoc, nr_nd_dim)\n",
    "\n",
    "print(S)"
   ]
  },
  {
   "cell_type": "code",
   "execution_count": 15,
   "metadata": {},
   "outputs": [
    {
     "name": "stdout",
     "output_type": "stream",
     "text": [
      "Torsionsfunktion im Trägerquerschnitt :\n",
      "---------------------------------------\n"
     ]
    },
    {
     "data": {
      "image/png": "[encoded data removed]",
      "text/plain": [
       "<Figure size 420x280 with 2 Axes>"
      ]
     },
     "metadata": {
      "needs_background": "light"
     },
     "output_type": "display_data"
    }
   ],
   "source": [
    "import matplotlib.pyplot as plt  \n",
    "\n",
    "print(\"Torsionsfunktion im Trägerquerschnitt :\")\n",
    "print(\"---------------------------------------\")\n",
    "plt.figure(dpi=70)\n",
    "color_map = plt.imshow(S)\n",
    "plt.colorbar()\n",
    "plt.show() "
   ]
  },
  {
   "cell_type": "code",
   "execution_count": 16,
   "metadata": {},
   "outputs": [
    {
     "name": "stdout",
     "output_type": "stream",
     "text": [
      "xy-Komponente der Schubspannung im Trägerquerschnitt :\n",
      "------------------------------------------------------\n"
     ]
    },
    {
     "data": {
      "image/png": "[encoded data removed]",
      "text/plain": [
       "<Figure size 420x280 with 2 Axes>"
      ]
     },
     "metadata": {
      "needs_background": "light"
     },
     "output_type": "display_data"
    }
   ],
   "source": [
    "tau_xy = numpy.gradient(S)[0]\n",
    "tau_xz = -numpy.gradient(S)[1]\n",
    "\n",
    "print(\"xy-Komponente der Schubspannung im Trägerquerschnitt :\")\n",
    "print(\"------------------------------------------------------\")\n",
    "plt.figure(dpi=70)\n",
    "color_map = plt.imshow(tau_xy)\n",
    "plt.colorbar()\n",
    "plt.show() "
   ]
  },
  {
   "cell_type": "code",
   "execution_count": 17,
   "metadata": {},
   "outputs": [
    {
     "name": "stdout",
     "output_type": "stream",
     "text": [
      "xz-Komponente der Schubspannung im Trägerquerschnitt :\n",
      "------------------------------------------------------\n"
     ]
    },
    {
     "data": {
      "image/png": "[encoded data removed]",
      "text/plain": [
       "<Figure size 420x280 with 2 Axes>"
      ]
     },
     "metadata": {
      "needs_background": "light"
     },
     "output_type": "display_data"
    }
   ],
   "source": [
    "print(\"xz-Komponente der Schubspannung im Trägerquerschnitt :\")\n",
    "print(\"------------------------------------------------------\")\n",
    "plt.figure(dpi=70)\n",
    "color_map = plt.imshow(tau_xz)\n",
    "plt.colorbar()\n",
    "plt.show() "
   ]
  },
  {
   "cell_type": "code",
   "execution_count": 18,
   "metadata": {},
   "outputs": [
    {
     "name": "stdout",
     "output_type": "stream",
     "text": [
      "Qualitative Schubspannungsverteilung zufolge Torsion :\n",
      "------------------------------------------------------\n"
     ]
    },
    {
     "data": {
      "image/png": "[encoded data removed]",
      "text/plain": [
       "<Figure size 432x288 with 1 Axes>"
      ]
     },
     "metadata": {
      "needs_background": "light"
     },
     "output_type": "display_data"
    }
   ],
   "source": [
    "y = numpy.linspace(0, 1, int(length/resolution)+1)\n",
    "z = numpy.linspace(0, 1, int(length/resolution)+1)\n",
    "\n",
    "print(\"Qualitative Schubspannungsverteilung zufolge Torsion :\")\n",
    "print(\"------------------------------------------------------\")\n",
    "fig, ax = plt.subplots()\n",
    "q = ax.quiver(y, z, tau_xy, tau_xz)\n",
    "ax.set_aspect('equal', 'box')\n",
    "plt.show()"
   ]
  },
  {
   "cell_type": "code",
   "execution_count": null,
   "metadata": {},
   "outputs": [],
   "source": []
  }
 ],
 "metadata": {
  "kernelspec": {
   "display_name": "Python 3",
   "language": "python",
   "name": "python3"
  },
  "language_info": {
   "codemirror_mode": {
    "name": "ipython",
    "version": 3
   },
   "file_extension": ".py",
   "mimetype": "text/x-python",
   "name": "python",
   "nbconvert_exporter": "python",
   "pygments_lexer": "ipython3",
   "version": "3.7.6"
  }
 },
 "nbformat": 4,
 "nbformat_minor": 4
}
